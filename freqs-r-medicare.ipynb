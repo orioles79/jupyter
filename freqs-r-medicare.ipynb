{
 "cells": [
  {
   "cell_type": "markdown",
   "metadata": {},
   "source": [
    "### Toward Handling a Common Data Pattern with R data.table. \n",
    "\n",
    "I just updated this Jupyter notebook on [Medicare provider utilization and payment](https://www.cms.gov/research-statistics-data-systems/medicare-provider-utilization-and-payment-data/medicare-provider-utilization-and-payment-data-physician-and-other-supplier/physician-and-other-supplier-data-cy-2018) I've maintained for a number of years. In my data science travels, I see a pattern like the one presented here a lot: Text data files are added annually (quarterly, etc.) with a lag. (Coverage in this instance is currently from 2012-2018 inclusive.) Data attribute names don't change from year to year, though variables can either be added or removed. The data management challenge is then to load and stack each year's data adding a file/time identifier, the final attribute list representing the union of each year's, with clear demarcation of missing data.\n",
    "\n",
    "I've been using R for almost 20 years and its [splendid data.table package](https://cran.r-project.org/web/packages/data.table/vignettes/datatable-intro.html) for 10. For my money, data.table is the most mature open-source data handling package extant, it's loading/grouping/summarizing capabilities nonpareil. Though I like python/pandas, I think data.table is even more powerful and performant. Actually, I prefer collaborating the two using a common data file protocol like parquet along with interop packages such as rpy2 and reticulate. I'll oftentimes load data using R/data.table, subsequently writing  parquet files for sharing with other platforms.\n",
    "\n",
    "A design quandary with R data loads is how to handle character fields. One can store string attributes as either character or factor in R dataframes/data.tables. Factors are integer pointers to the value strings and can often save storage. The longer the string values and the lower the cardinality, the larger the storage savings. That said, I've generally found that factors are preferred to character even if attribute cardinality exceeds 50% of the number of table rows. Add to that read/write performance advantages and the case for factors as default can be compelling, as we'll see below.\n",
    "\n",
    "What follows is basic R data.table code to handle the pattern articulated above. data.table's fread text data loader is comprehensive, and its rbindlist functionality seamlessly manages the stacking of the disparate input files. Once the data are loaded, R's dynamic string execution along with data.table's efficient grouping capabilities make the critical exploratory frequencies work a snap. And finally, writing the data.tables to parquet files promotes efficient interoperability with other analytics platforms. At the conclusion of the read, my hope is that readers take away an appreciation of the power of data.table and its ease of use as a basis for split/apply/combine work, not only in R but in other analytics software as well.  \n",
    "\n",
    "The supporting platform is a Wintel 10 notebook with 128 GB RAM, along with software JupyterLab 3.0.7 and R 4.0.2. The R data.table, tidyverse, purrr, knitr, and arrow  packages are featured, in addition to functions meta and freqsdt from my personal stash, detailed below."
   ]
  },
  {
   "cell_type": "code",
   "execution_count": null,
   "metadata": {},
   "outputs": [],
   "source": []
  },
  {
   "cell_type": "markdown",
   "metadata": {},
   "source": [
    "R library paths."
   ]
  },
  {
   "cell_type": "code",
   "execution_count": 25,
   "metadata": {},
   "outputs": [
    {
     "data": {
      "text/html": [
       "<style>\n",
       ".list-inline {list-style: none; margin:0; padding: 0}\n",
       ".list-inline>li {display: inline-block}\n",
       ".list-inline>li:not(:last-child)::after {content: \"\\00b7\"; padding: 0 .5ex}\n",
       "</style>\n",
       "<ol class=list-inline><li>'C:/R/4.0.2/library'</li><li>'C:/Program Files/R/R-4.0.2/library'</li></ol>\n"
      ],
      "text/latex": [
       "\\begin{enumerate*}\n",
       "\\item 'C:/R/4.0.2/library'\n",
       "\\item 'C:/Program Files/R/R-4.0.2/library'\n",
       "\\end{enumerate*}\n"
      ],
      "text/markdown": [
       "1. 'C:/R/4.0.2/library'\n",
       "2. 'C:/Program Files/R/R-4.0.2/library'\n",
       "\n",
       "\n"
      ],
      "text/plain": [
       "[1] \"C:/R/4.0.2/library\"                 \"C:/Program Files/R/R-4.0.2/library\""
      ]
     },
     "metadata": {},
     "output_type": "display_data"
    }
   ],
   "source": [
    ".libPaths()"
   ]
  },
  {
   "cell_type": "markdown",
   "metadata": {},
   "source": [
    "Set options and load relevant R libraries. Source a personal R function file."
   ]
  },
  {
   "cell_type": "code",
   "execution_count": 26,
   "metadata": {},
   "outputs": [
    {
     "name": "stdout",
     "output_type": "stream",
     "text": [
      "\n"
     ]
    },
    {
     "data": {
      "text/plain": [
       "allfreqs : function (dtn, catlim = 100)  \n",
       "blanks : function (howmany)  \n",
       "colsize : function (dt)  \n",
       "dtmeta : function (df)  \n",
       "freqsdt : function (DTstr, xstr, percent = TRUE)  \n",
       "load_dta : function (fname, howmany = Inf, saf = TRUE)  \n",
       "meta : function (df, data = FALSE, dict = TRUE)  \n",
       "mksumfreq : function (freqalldt)  \n",
       "mksumfreq2 : function (dt)  \n",
       "mykab : function (dt)  \n",
       "obj_sz : function (obj)  \n",
       "prhead : function (df, howmany = 6)  \n",
       "prheadtail : function (df, howmany = 6)  "
      ]
     },
     "metadata": {},
     "output_type": "display_data"
    },
    {
     "name": "stdout",
     "output_type": "stream",
     "text": [
      "\n",
      " \n"
     ]
    }
   ],
   "source": [
    "options(warn=-1) \n",
    "options(scipen = 20)\n",
    "options(datatable.print.topn=100)\n",
    "options(datatable.showProgress=FALSE)\n",
    "options(stringsAsFactors=TRUE)\n",
    "\n",
    "usualsuspects <- c(\n",
    "     'data.table', 'pryr', 'plyr','readxl', 'bit', 'dtplyr',   \n",
    "    'rvest', 'magrittr','lubridate','rlist', 'dplyr', 'purrr',\n",
    "    'tidyquant', 'tidyverse', 'tictoc',\n",
    "    'fst','feather','arrow',\n",
    "    'knitr', 'kableExtra',  \n",
    "    'ggplot2','RColorBrewer',\n",
    "    'patchwork','hrbrthemes'\n",
    ") \n",
    "\n",
    "suppressMessages(invisible(lapply(usualsuspects, library, character.only = TRUE)))\n",
    "\n",
    "funcsdir <- \"c:/steve/r/functions\"\n",
    "funcsfile <- \"rfunctions.r\"\n",
    "\n",
    "setwd(funcsdir)\n",
    "source(funcsfile)\n",
    "\n",
    "\n",
    "blanks(1)\n",
    "lsf.str()\n",
    "\n",
    "blanks(2)"
   ]
  },
  {
   "cell_type": "markdown",
   "metadata": {},
   "source": [
    "Migrate to the working directory. Identify the raw data files."
   ]
  },
  {
   "cell_type": "code",
   "execution_count": 27,
   "metadata": {},
   "outputs": [
    {
     "name": "stdout",
     "output_type": "stream",
     "text": [
      "\n",
      " \n"
     ]
    }
   ],
   "source": [
    "mdir <- \"d:/bigdata/raw/medicare\"\n",
    "setwd(mdir)\n",
    "\n",
    "fnmes <- Sys.glob(\"M*.txt\")\n",
    "\n",
    "blanks(2)"
   ]
  },
  {
   "cell_type": "markdown",
   "metadata": {},
   "source": [
    "How big's the raw data? "
   ]
  },
  {
   "cell_type": "code",
   "execution_count": 28,
   "metadata": {},
   "outputs": [
    {
     "data": {
      "text/html": [
       "'14.19 G'"
      ],
      "text/latex": [
       "'14.19 G'"
      ],
      "text/markdown": [
       "'14.19 G'"
      ],
      "text/plain": [
       "[1] \"14.19 G\""
      ]
     },
     "metadata": {},
     "output_type": "display_data"
    },
    {
     "name": "stdout",
     "output_type": "stream",
     "text": [
      "\n",
      " \n"
     ]
    }
   ],
   "source": [
    "GIG <- 1024**3\n",
    "\n",
    "howbig <- round(sum(map_dbl(fnmes,function(n) file.info(n)$size))/GIG,2)\n",
    "paste0(howbig,' G')\n",
    "\n",
    "blanks(2)"
   ]
  },
  {
   "cell_type": "markdown",
   "metadata": {},
   "source": [
    "Define the data.table meta data function sourced earlier."
   ]
  },
  {
   "cell_type": "code",
   "execution_count": 29,
   "metadata": {},
   "outputs": [
    {
     "name": "stdout",
     "output_type": "stream",
     "text": [
      "\n",
      " \n"
     ]
    }
   ],
   "source": [
    "meta <- function(df,data=FALSE,dict=TRUE)\n",
    "{\n",
    "    HOWMANY <- 12\n",
    "    slug=data.table(name=deparse(substitute(df)),class=list(class(df)),rows=dim(df)[1],columns=dim(df)[2],size=obj_sz(df))\n",
    "    print(mykab(slug))\n",
    "    blanks(1)\n",
    "    if (dict) print(str(df))\n",
    "\n",
    "    if (data)\n",
    "        if (slug$rows<HOWMANY)\n",
    "            print(mykab(df)) \n",
    "        else\n",
    "        {\n",
    "            print(mykab(head(df))) \n",
    "            print(mykab(tail(df))) \n",
    "        }\n",
    "    blanks(1)\n",
    "}\n",
    "\n",
    "blanks(2)"
   ]
  },
  {
   "cell_type": "markdown",
   "metadata": {},
   "source": [
    "Function invoked to load each raw data file by rbindlist."
   ]
  },
  {
   "cell_type": "code",
   "execution_count": 30,
   "metadata": {},
   "outputs": [
    {
     "name": "stdout",
     "output_type": "stream",
     "text": [
      "\n",
      " \n"
     ]
    }
   ],
   "source": [
    "load_dta <- function(fname,howmany=Inf,saf=TRUE)\n",
    "{\n",
    "    header <- tolower(fread(fname,nrows=1,header=FALSE))\n",
    "    slug <- fread(fname,header=FALSE,skip=2,nrows=howmany,stringsAsFactors=saf)\n",
    "    names(slug) <- header\n",
    "    start <- str_locate(fname,\"_CY\")[2]+1\n",
    "    slug$year <- as.integer(substring(fname,start,start+3))\n",
    "    return(slug)\n",
    "}\n",
    "\n",
    "blanks(2)"
   ]
  },
  {
   "cell_type": "markdown",
   "metadata": {},
   "source": [
    "Load all files into the medicaref data.table with strings as factors."
   ]
  },
  {
   "cell_type": "code",
   "execution_count": 31,
   "metadata": {},
   "outputs": [
    {
     "name": "stdout",
     "output_type": "stream",
     "text": [
      "\n",
      "\n",
      "|name     |class                 |rows    |columns|size   |\n",
      "|:--------|:---------------------|:-------|:------|:------|\n",
      "|medicaref|data.table, data.frame|66779550|30     |9.55 GB|\n",
      "\n",
      "Classes 'data.table' and 'data.frame':\t66779550 obs. of  30 variables:\n",
      " $ npi                             : int  1003000126 1003000126 1003000126 1003000126 1003000126 1003000126 1003000126 1003000134 1003000134 1003000134 ...\n",
      " $ nppes_provider_last_org_name    : Factor w/ 318343 levels \"10 33 AMBULANCE SERVICE LIMITED\",..: 60738 60738 60738 60738 60738 60738 60738 37340 37340 37340 ...\n",
      " $ nppes_provider_first_name       : Factor w/ 81568 levels \"\",\"(BARBARA)\",..: 3265 3265 3265 3265 3265 3265 3265 48840 48840 48840 ...\n",
      " $ nppes_provider_mi               : Factor w/ 34 levels \"\",\"'\",\"(\",\"-\",..: 1 1 1 1 1 1 1 19 19 19 ...\n",
      " $ nppes_credentials               : Factor w/ 22866 levels \"\",\"(D.C.) CHIROPRACTIC\",..: 5088 5088 5088 5088 5088 5088 5088 5088 5088 5088 ...\n",
      " $ nppes_provider_gender           : Factor w/ 3 levels \"\",\"F\",\"M\": 3 3 3 3 3 3 3 3 3 3 ...\n",
      " $ nppes_entity_code               : Factor w/ 2 levels \"I\",\"O\": 1 1 1 1 1 1 1 1 1 1 ...\n",
      " $ nppes_provider_street1          : Factor w/ 509545 levels \"# 1 BURDICK EXPY W\",..: 295066 295066 295066 295066 295066 295066 295066 141349 141349 141349 ...\n",
      " $ nppes_provider_street2          : Factor w/ 99699 levels \"\",\"# 0987\",\"# 1\",..: 1 1 1 1 1 1 1 23355 23355 23355 ...\n",
      " $ nppes_provider_city             : Factor w/ 14687 levels \"/WALDPORT\",\"29 PALMS\",..: 2503 2503 2503 2503 2503 2503 2503 3449 3449 3449 ...\n",
      " $ nppes_provider_zip              : Factor w/ 369898 levels \"0000\",\"00000\",..: 61809 61809 61809 61809 61809 61809 61809 164058 164058 164058 ...\n",
      " $ nppes_provider_state            : Factor w/ 61 levels \"AA\",\"AE\",\"AK\",..: 26 26 26 26 26 26 26 20 20 20 ...\n",
      " $ nppes_provider_country          : Factor w/ 41 levels \"AE\",\"AR\",\"AU\",..: 23 23 23 23 23 23 23 23 23 23 ...\n",
      " $ provider_type                   : Factor w/ 127 levels \"Addiction Medicine\",..: 37 37 37 37 37 37 37 61 61 61 ...\n",
      " $ medicare_participation_indicator: Factor w/ 2 levels \"N\",\"Y\": 2 2 2 2 2 2 2 2 2 2 ...\n",
      " $ place_of_service                : Factor w/ 2 levels \"F\",\"O\": 1 1 1 1 1 1 1 1 1 1 ...\n",
      " $ hcpcs_code                      : Factor w/ 7752 levels \"00100\",\"00102\",..: 5230 5231 5235 5236 5237 5241 5242 4518 4519 4522 ...\n",
      " $ hcpcs_description               : Factor w/ 8349 levels \"17-hydroxypregnenolone (hormone) level\",..: 2056 2057 4731 4732 4733 1702 1703 3353 3350 3464 ...\n",
      " $ hcpcs_drug_indicator            : Factor w/ 2 levels \"N\",\"Y\": 1 1 1 1 1 1 1 1 1 1 ...\n",
      " $ line_srvc_cnt                   : num  115 93 111 544 75 95 191 226 6070 13 ...\n",
      " $ bene_unique_cnt                 : int  112 88 83 295 55 95 185 207 3624 13 ...\n",
      " $ bene_day_srvc_cnt               : int  115 93 111 544 75 95 191 209 4416 13 ...\n",
      " $ average_medicare_allowed_amt    : num  135.2 198.6 38.8 71 101.7 ...\n",
      " $ stdev_medicare_allowed_amt      : num  0 0 0 0 0 ...\n",
      " $ average_submitted_chrg_amt      : num  199 291 58 105 150 104 153 115 170 39 ...\n",
      " $ stdev_submitted_chrg_amt        : num  0 9.59 0 0 0 ...\n",
      " $ average_medicare_payment_amt    : num  108.1 158.9 30.7 56.7 81.4 ...\n",
      " $ stdev_medicare_payment_amt      : num  0.901 0 2.929 2.431 0 ...\n",
      " $ year                            : int  2012 2012 2012 2012 2012 2012 2012 2012 2012 2012 ...\n",
      " $ average_medicare_standard_amt   : num  NA NA NA NA NA NA NA NA NA NA ...\n",
      " - attr(*, \".internal.selfref\")=<externalptr> \n",
      "NULL\n",
      "\n",
      "115.5 sec elapsed\n",
      "\n",
      " \n"
     ]
    }
   ],
   "source": [
    "tic()\n",
    "\n",
    "medicaref <- rbindlist(lapply(fnmes, load_dta,saf=TRUE),\n",
    "                      use.names=TRUE, fill=TRUE)\n",
    "meta(medicaref)\n",
    "\n",
    "toc()\n",
    "\n",
    "blanks(2)"
   ]
  },
  {
   "cell_type": "markdown",
   "metadata": {},
   "source": [
    "Load the same files into the medicares data.table with strings as strings. Note the almost double load time and > 40% additional storage cost for the string data version."
   ]
  },
  {
   "cell_type": "code",
   "execution_count": 32,
   "metadata": {},
   "outputs": [
    {
     "name": "stdout",
     "output_type": "stream",
     "text": [
      "\n",
      "\n",
      "|name     |class                 |rows    |columns|size    |\n",
      "|:--------|:---------------------|:-------|:------|:-------|\n",
      "|medicares|data.table, data.frame|66779550|30     |14.02 GB|\n",
      "\n",
      "Classes 'data.table' and 'data.frame':\t66779550 obs. of  30 variables:\n",
      " $ npi                             : int  1003000126 1003000126 1003000126 1003000126 1003000126 1003000126 1003000126 1003000134 1003000134 1003000134 ...\n",
      " $ nppes_provider_last_org_name    : chr  \"ENKESHAFI\" \"ENKESHAFI\" \"ENKESHAFI\" \"ENKESHAFI\" ...\n",
      " $ nppes_provider_first_name       : chr  \"ARDALAN\" \"ARDALAN\" \"ARDALAN\" \"ARDALAN\" ...\n",
      " $ nppes_provider_mi               : chr  \"\" \"\" \"\" \"\" ...\n",
      " $ nppes_credentials               : chr  \"M.D.\" \"M.D.\" \"M.D.\" \"M.D.\" ...\n",
      " $ nppes_provider_gender           : chr  \"M\" \"M\" \"M\" \"M\" ...\n",
      " $ nppes_entity_code               : chr  \"I\" \"I\" \"I\" \"I\" ...\n",
      " $ nppes_provider_street1          : chr  \"900 SETON DR\" \"900 SETON DR\" \"900 SETON DR\" \"900 SETON DR\" ...\n",
      " $ nppes_provider_street2          : chr  \"\" \"\" \"\" \"\" ...\n",
      " $ nppes_provider_city             : chr  \"CUMBERLAND\" \"CUMBERLAND\" \"CUMBERLAND\" \"CUMBERLAND\" ...\n",
      " $ nppes_provider_zip              : chr  \"215021854\" \"215021854\" \"215021854\" \"215021854\" ...\n",
      " $ nppes_provider_state            : chr  \"MD\" \"MD\" \"MD\" \"MD\" ...\n",
      " $ nppes_provider_country          : chr  \"US\" \"US\" \"US\" \"US\" ...\n",
      " $ provider_type                   : chr  \"Internal Medicine\" \"Internal Medicine\" \"Internal Medicine\" \"Internal Medicine\" ...\n",
      " $ medicare_participation_indicator: chr  \"Y\" \"Y\" \"Y\" \"Y\" ...\n",
      " $ place_of_service                : chr  \"F\" \"F\" \"F\" \"F\" ...\n",
      " $ hcpcs_code                      : chr  \"99222\" \"99223\" \"99231\" \"99232\" ...\n",
      " $ hcpcs_description               : chr  \"Initial hospital inpatient care, typically 50 minutes per day\" \"Initial hospital inpatient care, typically 70 minutes per day\" \"Subsequent hospital inpatient care, typically 15 minutes per day\" \"Subsequent hospital inpatient care, typically 25 minutes per day\" ...\n",
      " $ hcpcs_drug_indicator            : chr  \"N\" \"N\" \"N\" \"N\" ...\n",
      " $ line_srvc_cnt                   : num  115 93 111 544 75 95 191 226 6070 13 ...\n",
      " $ bene_unique_cnt                 : int  112 88 83 295 55 95 185 207 3624 13 ...\n",
      " $ bene_day_srvc_cnt               : int  115 93 111 544 75 95 191 209 4416 13 ...\n",
      " $ average_medicare_allowed_amt    : num  135.2 198.6 38.8 71 101.7 ...\n",
      " $ stdev_medicare_allowed_amt      : num  0 0 0 0 0 ...\n",
      " $ average_submitted_chrg_amt      : num  199 291 58 105 150 104 153 115 170 39 ...\n",
      " $ stdev_submitted_chrg_amt        : num  0 9.59 0 0 0 ...\n",
      " $ average_medicare_payment_amt    : num  108.1 158.9 30.7 56.7 81.4 ...\n",
      " $ stdev_medicare_payment_amt      : num  0.901 0 2.929 2.431 0 ...\n",
      " $ year                            : int  2012 2012 2012 2012 2012 2012 2012 2012 2012 2012 ...\n",
      " $ average_medicare_standard_amt   : num  NA NA NA NA NA NA NA NA NA NA ...\n",
      " - attr(*, \".internal.selfref\")=<externalptr> \n",
      "NULL\n",
      "\n",
      "221.25 sec elapsed\n",
      "\n",
      " \n"
     ]
    }
   ],
   "source": [
    "tic()\n",
    "\n",
    "medicares <- rbindlist(lapply(fnmes, load_dta,saf=FALSE),\n",
    "                      use.names=TRUE, fill=TRUE)\n",
    "meta(medicares)\n",
    "\n",
    "toc()\n",
    "\n",
    "blanks(2)"
   ]
  },
  {
   "cell_type": "markdown",
   "metadata": {},
   "source": [
    "Now write parquet files for each of the Medicare data.tables. parquet is lingua franca for data sharing among analytics management packages. Note the stark difference in elapsed times between the string and factor data.table versions. Note also how much smaller the parquet file sizes are than the original raw data -- in these instances about an 80% reduction."
   ]
  },
  {
   "cell_type": "code",
   "execution_count": 33,
   "metadata": {},
   "outputs": [
    {
     "data": {
      "text/html": [
       "'2.83 G'"
      ],
      "text/latex": [
       "'2.83 G'"
      ],
      "text/markdown": [
       "'2.83 G'"
      ],
      "text/plain": [
       "[1] \"2.83 G\""
      ]
     },
     "metadata": {},
     "output_type": "display_data"
    },
    {
     "name": "stdout",
     "output_type": "stream",
     "text": [
      "\n",
      "302.5 sec elapsed\n",
      "\n",
      " \n"
     ]
    }
   ],
   "source": [
    "tic()\n",
    "\n",
    "fn <- \"medicarers.parquet\"\n",
    "write_parquet(medicares,fn)\n",
    "\n",
    "paste0(round(file.info(fn)$size/GIG,2),' G')\n",
    "blanks(1)\n",
    "\n",
    "toc()\n",
    "\n",
    "blanks(2)"
   ]
  },
  {
   "cell_type": "code",
   "execution_count": 34,
   "metadata": {},
   "outputs": [
    {
     "data": {
      "text/html": [
       "'2.64 G'"
      ],
      "text/latex": [
       "'2.64 G'"
      ],
      "text/markdown": [
       "'2.64 G'"
      ],
      "text/plain": [
       "[1] \"2.64 G\""
      ]
     },
     "metadata": {},
     "output_type": "display_data"
    },
    {
     "name": "stdout",
     "output_type": "stream",
     "text": [
      "\n",
      "35.77 sec elapsed\n",
      "\n",
      " \n"
     ]
    }
   ],
   "source": [
    "tic()\n",
    "\n",
    "fn <- \"medicarerf.parquet\"\n",
    "write_parquet(medicaref,fn)\n",
    "\n",
    "paste0(round(file.info(fn)$size/GIG,2),' G')\n",
    "blanks(1)\n",
    "\n",
    "toc()\n",
    "\n",
    "blanks(2)"
   ]
  },
  {
   "cell_type": "markdown",
   "metadata": {},
   "source": [
    "Frequencies, counts of variable intersections, are the most elemental of grouping operations. freqsdt is a general-purpose frequency function built on dynamic build/execution of data.table grouping counts that is simple but powerful."
   ]
  },
  {
   "cell_type": "code",
   "execution_count": 35,
   "metadata": {},
   "outputs": [
    {
     "name": "stdout",
     "output_type": "stream",
     "text": [
      "\n",
      " \n"
     ]
    }
   ],
   "source": [
    "freqsdt <- function(DTstr, xstr, percent=TRUE)\n",
    "{    \n",
    "    if (percent)\n",
    "        return(eval(parse(text=sprintf('%s[,.(frequency=.N),.(%s)]', DTstr, xstr)))[\n",
    "            order(-frequency)][,percent:=100*frequency/sum(frequency)]) \n",
    "    else\n",
    "        return(eval(parse(text=sprintf('%s[,.(frequency=.N),.(%s)]', DTstr, xstr)))[\n",
    "            order(-frequency)]) \n",
    "}   \n",
    "\n",
    "blanks(2)"
   ]
  },
  {
   "cell_type": "markdown",
   "metadata": {},
   "source": [
    "nppes_credentials frequencies with freqsdt. very fast."
   ]
  },
  {
   "cell_type": "code",
   "execution_count": 36,
   "metadata": {},
   "outputs": [
    {
     "name": "stdout",
     "output_type": "stream",
     "text": [
      "\n",
      "\n",
      "|name|class                 |rows |columns|size   |\n",
      "|:---|:---------------------|:----|:------|:------|\n",
      "|fc  |data.table, data.frame|22867|3      |1.97 MB|\n",
      "\n",
      "Classes 'data.table' and 'data.frame':\t22867 obs. of  3 variables:\n",
      " $ nppes_credentials: Factor w/ 22866 levels \"\",\"(D.C.) CHIROPRACTIC\",..: 6579 5088 1 2346 3096 10203 3246 9441 1690 4982 ...\n",
      " $ frequency        : int  23200195 22378848 4489350 2229095 1704125 1034678 881343 668417 657737 570015 ...\n",
      " $ percent          : num  34.74 33.51 6.72 3.34 2.55 ...\n",
      " - attr(*, \".internal.selfref\")=<externalptr> \n",
      "NULL\n",
      "\n",
      "\n",
      "|nppes_credentials|frequency|percent  |\n",
      "|:----------------|:--------|:--------|\n",
      "|MD               |23200195 |34.741467|\n",
      "|M.D.             |22378848 |33.511529|\n",
      "|                 |4489350  |6.722642 |\n",
      "|D.O.             |2229095  |3.337990 |\n",
      "|DO               |1704125  |2.551867 |\n",
      "|PA-C             |1034678  |1.549393 |\n",
      "\n",
      "\n",
      "|nppes_credentials|frequency|percent |\n",
      "|:----------------|:--------|:-------|\n",
      "|PHD, GNP-BC      |1        |0.000001|\n",
      "|PHD & LPC        |1        |0.000001|\n",
      "|MSSW, LCSW, LCASA|1        |0.000001|\n",
      "|AGACNP-BC, DNP   |1        |0.000001|\n",
      "|DC, LPT          |1        |0.000001|\n",
      "|CRNA, PAC        |1        |0.000001|\n",
      "\n",
      "0.63 sec elapsed\n",
      "\n",
      " \n"
     ]
    }
   ],
   "source": [
    "tic()\n",
    "\n",
    "dt = \"medicaref\"\n",
    "cols = \"nppes_credentials\"\n",
    "\n",
    "fc <- freqsdt(dt,cols)\n",
    "meta(fc,data=TRUE)\n",
    "\n",
    "toc()\n",
    "\n",
    "blanks(2)"
   ]
  },
  {
   "cell_type": "markdown",
   "metadata": {},
   "source": [
    "nppes_provider_zip, a 2nd single attribute illustration. There are almost 370K different \"zips\" represented in the data. That 370K is of course the cardinality of nppes_provider_zip."
   ]
  },
  {
   "cell_type": "code",
   "execution_count": 37,
   "metadata": {},
   "outputs": [
    {
     "name": "stdout",
     "output_type": "stream",
     "text": [
      "\n",
      "\n",
      "|name|class                 |rows  |columns|size    |\n",
      "|:---|:---------------------|:-----|:------|:-------|\n",
      "|fc  |data.table, data.frame|369899|3      |30.88 MB|\n",
      "\n",
      "Classes 'data.table' and 'data.frame':\t369899 obs. of  3 variables:\n",
      " $ nppes_provider_zip: Factor w/ 369898 levels \"0000\",\"00000\",..: 157355 126839 90279 92059 64438 149446 111995 198131 151880 5466 ...\n",
      " $ frequency         : int  136500 98294 45660 44221 44128 42966 42593 42313 41937 40592 ...\n",
      " $ percent           : num  0.2044 0.1472 0.0684 0.0662 0.0661 ...\n",
      " - attr(*, \".internal.selfref\")=<externalptr> \n",
      "NULL\n",
      "\n",
      "\n",
      "|nppes_provider_zip|frequency|percent |\n",
      "|:-----------------|:--------|:-------|\n",
      "|559050001         |136500   |0.204404|\n",
      "|441950001         |98294    |0.147192|\n",
      "|322241865         |45660    |0.068374|\n",
      "|326103003         |44221    |0.066219|\n",
      "|229080001         |44128    |0.066080|\n",
      "|522421009         |42966    |0.064340|\n",
      "\n",
      "\n",
      "|nppes_provider_zip|frequency|percent |\n",
      "|:-----------------|:--------|:-------|\n",
      "|45453             |1        |0.000001|\n",
      "|14715             |1        |0.000001|\n",
      "|19732             |1        |0.000001|\n",
      "|04774             |1        |0.000001|\n",
      "|94018             |1        |0.000001|\n",
      "|61865             |1        |0.000001|\n",
      "\n",
      "1.45 sec elapsed\n",
      "\n",
      " \n"
     ]
    }
   ],
   "source": [
    "tic()\n",
    "\n",
    "dt = \"medicaref\"\n",
    "cols = \"nppes_provider_zip\"\n",
    "\n",
    "fc <- freqsdt(dt,cols)\n",
    "meta(fc,data=TRUE)\n",
    "\n",
    "toc()\n",
    "\n",
    "blanks(2)"
   ]
  },
  {
   "cell_type": "markdown",
   "metadata": {},
   "source": [
    "Multiple attribute frequencies of nppes_credentials with nppes_provider_zip. Almost 1M intersections, but still very fast."
   ]
  },
  {
   "cell_type": "code",
   "execution_count": 38,
   "metadata": {},
   "outputs": [
    {
     "name": "stdout",
     "output_type": "stream",
     "text": [
      "\n",
      "\n",
      "|name|class                 |rows  |columns|size    |\n",
      "|:---|:---------------------|:-----|:------|:-------|\n",
      "|fc  |data.table, data.frame|959410|4      |45.15 MB|\n",
      "\n",
      "Classes 'data.table' and 'data.frame':\t959410 obs. of  4 variables:\n",
      " $ nppes_credentials : Factor w/ 22866 levels \"\",\"(D.C.) CHIROPRACTIC\",..: 5088 6579 6579 6579 6579 6579 5088 6579 6579 5088 ...\n",
      " $ nppes_provider_zip: Factor w/ 369898 levels \"0000\",\"00000\",..: 157355 126839 172708 53962 92059 111995 61626 157355 61567 64438 ...\n",
      " $ frequency         : int  83051 51688 32286 31025 30886 27879 27836 26777 26222 26057 ...\n",
      " $ percent           : num  0.1244 0.0774 0.0483 0.0465 0.0463 ...\n",
      " - attr(*, \".internal.selfref\")=<externalptr> \n",
      "NULL\n",
      "\n",
      "\n",
      "|nppes_credentials|nppes_provider_zip|frequency|percent |\n",
      "|:----------------|:-----------------|:--------|:-------|\n",
      "|M.D.             |559050001         |83051    |0.124366|\n",
      "|MD               |441950001         |51688    |0.077401|\n",
      "|MD               |631101032         |32286    |0.048347|\n",
      "|MD               |19104             |31025    |0.046459|\n",
      "|MD               |326103003         |30886    |0.046251|\n",
      "|MD               |372320001         |27879    |0.041748|\n",
      "\n",
      "\n",
      "|nppes_credentials|nppes_provider_zip|frequency|percent |\n",
      "|:----------------|:-----------------|:--------|:-------|\n",
      "|PA-C             |91106             |1        |0.000001|\n",
      "|LCSW             |92260             |1        |0.000001|\n",
      "|DC PT            |11366             |1        |0.000001|\n",
      "|M.S. CCC-A       |16001             |1        |0.000001|\n",
      "|PSY.D            |60061             |1        |0.000001|\n",
      "|                 |14009             |1        |0.000001|\n",
      "\n",
      "2.02 sec elapsed\n",
      "\n",
      " \n"
     ]
    }
   ],
   "source": [
    "tic()\n",
    "\n",
    "dt = \"medicaref\"\n",
    "cols = \"nppes_credentials,nppes_provider_zip\"\n",
    "\n",
    "fc <- freqsdt(dt,cols)\n",
    "\n",
    "meta(fc,data=TRUE)\n",
    "\n",
    "toc()\n",
    "\n",
    "blanks(2)"
   ]
  },
  {
   "cell_type": "markdown",
   "metadata": {},
   "source": [
    "frequencies of nppes_provider_zip with a data.table subset. "
   ]
  },
  {
   "cell_type": "code",
   "execution_count": 39,
   "metadata": {},
   "outputs": [
    {
     "name": "stdout",
     "output_type": "stream",
     "text": [
      "\n",
      "\n",
      "|name|class                 |rows  |columns|size    |\n",
      "|:---|:---------------------|:-----|:------|:-------|\n",
      "|fc  |data.table, data.frame|258125|3      |29.17 MB|\n",
      "\n",
      "Classes 'data.table' and 'data.frame':\t258125 obs. of  3 variables:\n",
      " $ nppes_provider_zip: Factor w/ 369898 levels \"0000\",\"00000\",..: 157355 126839 92059 90279 111995 4059 64438 61626 70232 198240 ...\n",
      " $ frequency         : int  21295 16185 7075 7024 6926 6447 6384 6274 6029 5995 ...\n",
      " $ percent           : num  0.2326 0.1768 0.0773 0.0767 0.0757 ...\n",
      " - attr(*, \".internal.selfref\")=<externalptr> \n",
      "NULL\n",
      "\n",
      "\n",
      "|nppes_provider_zip|frequency|percent |\n",
      "|:-----------------|:--------|:-------|\n",
      "|559050001         |21295    |0.232649|\n",
      "|441950001         |16185    |0.176822|\n",
      "|326103003         |7075     |0.077295|\n",
      "|322241865         |7024     |0.076738|\n",
      "|372320001         |6926     |0.075667|\n",
      "|018050001         |6447     |0.070434|\n",
      "\n",
      "\n",
      "|nppes_provider_zip|frequency|percent |\n",
      "|:-----------------|:--------|:-------|\n",
      "|178151567         |1        |0.000011|\n",
      "|631416737         |1        |0.000011|\n",
      "|945263433         |1        |0.000011|\n",
      "|913164053         |1        |0.000011|\n",
      "|908062831         |1        |0.000011|\n",
      "|296407109         |1        |0.000011|\n",
      "\n",
      "0.65 sec elapsed\n",
      "\n",
      " \n"
     ]
    }
   ],
   "source": [
    "tic()\n",
    "\n",
    "dt = \"medicaref[year==2012]\"\n",
    "cols = \"nppes_provider_zip\"\n",
    "\n",
    "fc <- freqsdt(dt,cols)\n",
    "\n",
    "meta(fc,data=TRUE)\n",
    "\n",
    "toc()\n",
    "\n",
    "blanks(2)"
   ]
  },
  {
   "cell_type": "markdown",
   "metadata": {},
   "source": [
    "frequencies on a data.table with a column transformation to determine na's. Over 18M detail records had na's for average_medicare_standard_amt."
   ]
  },
  {
   "cell_type": "code",
   "execution_count": 40,
   "metadata": {},
   "outputs": [
    {
     "name": "stdout",
     "output_type": "stream",
     "text": [
      "\n",
      "\n",
      "|name|class                 |rows|columns|size   |\n",
      "|:---|:---------------------|:---|:------|:------|\n",
      "|fc  |data.table, data.frame|2   |3      |1.34 KB|\n",
      "\n",
      "Classes 'data.table' and 'data.frame':\t2 obs. of  3 variables:\n",
      " $ isna_average_medicare_standard_amt: logi  FALSE TRUE\n",
      " $ frequency                         : int  48338402 18441148\n",
      " $ percent                           : num  72.4 27.6\n",
      " - attr(*, \".internal.selfref\")=<externalptr> \n",
      "NULL\n",
      "\n",
      "\n",
      "|isna_average_medicare_standard_amt|frequency|percent |\n",
      "|:---------------------------------|:--------|:-------|\n",
      "|FALSE                             |48338402 |72.38504|\n",
      "|TRUE                              |18441148 |27.61496|\n",
      "\n",
      "0.55 sec elapsed\n",
      "\n",
      " \n"
     ]
    }
   ],
   "source": [
    "tic()\n",
    "\n",
    "dt = \"medicaref\"\n",
    "cols = \"isna_average_medicare_standard_amt=is.na(average_medicare_standard_amt)\"\n",
    "\n",
    "fc <- freqsdt(dt,cols)\n",
    "\n",
    "meta(fc,data=TRUE)\n",
    "\n",
    "toc()\n",
    "\n",
    "blanks(2)"
   ]
  },
  {
   "cell_type": "markdown",
   "metadata": {},
   "source": [
    "How do these na's break down by year?. No average_medicare_standard_amt values for 2012-2013."
   ]
  },
  {
   "cell_type": "code",
   "execution_count": 41,
   "metadata": {},
   "outputs": [
    {
     "name": "stdout",
     "output_type": "stream",
     "text": [
      "\n",
      "\n",
      "|name|class                 |rows|columns|size   |\n",
      "|:---|:---------------------|:---|:------|:------|\n",
      "|fc  |data.table, data.frame|7   |4      |1.57 KB|\n",
      "\n",
      "Classes 'data.table' and 'data.frame':\t7 obs. of  4 variables:\n",
      " $ year                              : int  2018 2017 2016 2015 2014 2013 2012\n",
      " $ isna_average_medicare_standard_amt: logi  FALSE FALSE FALSE FALSE FALSE TRUE ...\n",
      " $ frequency                         : int  9961865 9847443 9714896 9497891 9316307 9287876 9153272\n",
      " $ percent                           : num  14.9 14.7 14.5 14.2 14 ...\n",
      " - attr(*, \".internal.selfref\")=<externalptr> \n",
      "NULL\n",
      "\n",
      "\n",
      "|year|isna_average_medicare_standard_amt|frequency|percent |\n",
      "|:---|:---------------------------------|:--------|:-------|\n",
      "|2018|FALSE                             |9961865  |14.91754|\n",
      "|2017|FALSE                             |9847443  |14.74620|\n",
      "|2016|FALSE                             |9714896  |14.54771|\n",
      "|2015|FALSE                             |9497891  |14.22275|\n",
      "|2014|FALSE                             |9316307  |13.95084|\n",
      "|2013|TRUE                              |9287876  |13.90826|\n",
      "|2012|TRUE                              |9153272  |13.70670|\n",
      "\n",
      "0.53 sec elapsed\n",
      "\n",
      " \n"
     ]
    }
   ],
   "source": [
    "tic()\n",
    "\n",
    "dt = \"medicaref\"\n",
    "cols = \"year,isna_average_medicare_standard_amt=is.na(average_medicare_standard_amt)\"\n",
    "\n",
    "fc <- freqsdt(dt,cols)\n",
    "\n",
    "meta(fc,data=TRUE)\n",
    "\n",
    "toc()\n",
    "\n",
    "blanks(2)"
   ]
  },
  {
   "cell_type": "markdown",
   "metadata": {},
   "source": [
    "Tabulate frequencies for all medicaref factor and integer fields except npi, the key. The listing at the end provides cardinalities of each summarized attribute."
   ]
  },
  {
   "cell_type": "code",
   "execution_count": 42,
   "metadata": {},
   "outputs": [
    {
     "name": "stdout",
     "output_type": "stream",
     "text": [
      "\n",
      "\n",
      "|name|class                 |rows   |columns|size     |\n",
      "|:---|:---------------------|:------|:------|:--------|\n",
      "|fcc |data.table, data.frame|1489998|4      |133.28 MB|\n",
      "\n",
      "Classes 'data.table' and 'data.frame':\t1489998 obs. of  4 variables:\n",
      " $ var      : Factor w/ 21 levels \"nppes_provider_last_org_name\",..: 1 1 1 1 1 1 1 1 1 1 ...\n",
      " $ values   : Factor w/ 1438843 levels \"10 33 AMBULANCE SERVICE LIMITED\",..: 154372 189842 115677 96904 217603 134741 27065 221641 97104 184171 ...\n",
      " $ frequency: int  360942 341765 245430 243664 240628 210675 181909 178452 173221 166516 ...\n",
      " $ percent  : num  0.54 0.512 0.368 0.365 0.36 ...\n",
      " - attr(*, \".internal.selfref\")=<externalptr> \n",
      "NULL\n",
      "\n",
      "\n",
      "|var                         |values     |frequency|percent |\n",
      "|:---------------------------|:----------|:--------|:-------|\n",
      "|nppes_provider_last_org_name|PATEL      |360942   |0.540498|\n",
      "|nppes_provider_last_org_name|SMITH      |341765   |0.511781|\n",
      "|nppes_provider_last_org_name|LEE        |245430   |0.367523|\n",
      "|nppes_provider_last_org_name|JOHNSON    |243664   |0.364878|\n",
      "|nppes_provider_last_org_name|WALGREEN CO|240628   |0.360332|\n",
      "|nppes_provider_last_org_name|MILLER     |210675   |0.315478|\n",
      "\n",
      "\n",
      "|var |values|frequency|percent |\n",
      "|:---|:-----|:--------|:-------|\n",
      "|year|2017  |9847443  |14.74620|\n",
      "|year|2016  |9714896  |14.54771|\n",
      "|year|2015  |9497891  |14.22275|\n",
      "|year|2014  |9316307  |13.95084|\n",
      "|year|2013  |9287876  |13.90826|\n",
      "|year|2012  |9153272  |13.70670|\n",
      "\n",
      "\n",
      " \n",
      "                                 var      N\n",
      " 1:     nppes_provider_last_org_name 318344\n",
      " 2:        nppes_provider_first_name  81569\n",
      " 3:                nppes_provider_mi     34\n",
      " 4:                nppes_credentials  22867\n",
      " 5:            nppes_provider_gender      3\n",
      " 6:                nppes_entity_code      2\n",
      " 7:           nppes_provider_street1 509546\n",
      " 8:           nppes_provider_street2  99699\n",
      " 9:              nppes_provider_city  14688\n",
      "10:               nppes_provider_zip 369899\n",
      "11:             nppes_provider_state     61\n",
      "12:           nppes_provider_country     41\n",
      "13:                    provider_type    127\n",
      "14: medicare_participation_indicator      2\n",
      "15:                 place_of_service      2\n",
      "16:                       hcpcs_code   7752\n",
      "17:                hcpcs_description   8349\n",
      "18:             hcpcs_drug_indicator      2\n",
      "19:                  bene_unique_cnt  24806\n",
      "20:                bene_day_srvc_cnt  32198\n",
      "21:                             year      7\n",
      "                                 var      N\n",
      "18.64 sec elapsed\n",
      "\n",
      " \n"
     ]
    }
   ],
   "source": [
    "tic()\n",
    "\n",
    "key = \"npi\"\n",
    "nmes <- names(medicaref)\n",
    "invars <- nmes[map_lgl(nmes,function(n) ifelse(class(medicaref[[n]]) %in% c(\"character\",\"factor\", \"integer\"),TRUE,FALSE))]\n",
    "invars <- setdiff(invars,key) \n",
    "\n",
    "fcc <- data.table()\n",
    "dt <- \"medicaref\"\n",
    "\n",
    "for (n in invars)\n",
    "{\n",
    "    fc = freqsdt(dt,paste0(n))\n",
    "    fcc = rbind(fcc,data.table(var=factor(names(fc)[1]),values=fc[[names(fc)[1]]],fc[,.(frequency,percent)]))\n",
    "\n",
    "}\n",
    "\n",
    "meta(fcc,data=TRUE)\n",
    "blanks(2)\n",
    "print(fcc[,.N,.(var)])\n",
    "\n",
    "toc()\n",
    "                       \n",
    "blanks(2)"
   ]
  },
  {
   "cell_type": "markdown",
   "metadata": {},
   "source": [
    "na's by year for each attribute."
   ]
  },
  {
   "cell_type": "code",
   "execution_count": 43,
   "metadata": {},
   "outputs": [
    {
     "name": "stdout",
     "output_type": "stream",
     "text": [
      "   year isna_npi frequency  percent\n",
      "1: 2018    FALSE   9961865 14.91754\n",
      "2: 2017    FALSE   9847443 14.74620\n",
      "3: 2016    FALSE   9714896 14.54771\n",
      "4: 2015    FALSE   9497891 14.22275\n",
      "5: 2014    FALSE   9316307 13.95084\n",
      "6: 2013    FALSE   9287876 13.90826\n",
      "7: 2012    FALSE   9153272 13.70670\n",
      "\n",
      "    year isna_nppes_provider_last_org_name frequency        percent\n",
      " 1: 2018                             FALSE   9961800 14.91744104295\n",
      " 2: 2017                             FALSE   9847382 14.74610415913\n",
      " 3: 2016                             FALSE   9714834 14.54761824541\n",
      " 4: 2015                             FALSE   9497816 14.22264151226\n",
      " 5: 2014                             FALSE   9316237 13.95073342064\n",
      " 6: 2013                             FALSE   9287797 13.90814553258\n",
      " 7: 2012                             FALSE   9153195 13.70658382694\n",
      " 8: 2013                              TRUE        79  0.00011829969\n",
      " 9: 2012                              TRUE        77  0.00011530476\n",
      "10: 2015                              TRUE        75  0.00011230983\n",
      "11: 2014                              TRUE        70  0.00010482251\n",
      "12: 2018                              TRUE        65  0.00009733519\n",
      "13: 2016                              TRUE        62  0.00009284279\n",
      "14: 2017                              TRUE        61  0.00009134533\n",
      "\n",
      "    year isna_nppes_provider_first_name frequency        percent\n",
      " 1: 2018                          FALSE   9961765 14.91738863170\n",
      " 2: 2017                          FALSE   9847340 14.74604126563\n",
      " 3: 2016                          FALSE   9714800 14.54756733162\n",
      " 4: 2015                          FALSE   9497817 14.22264300972\n",
      " 5: 2014                          FALSE   9316255 13.95076037500\n",
      " 6: 2013                          FALSE   9287835 13.90820243622\n",
      " 7: 2012                          FALSE   9153247 13.70666169508\n",
      " 8: 2017                           TRUE       103  0.00015423884\n",
      " 9: 2018                           TRUE       100  0.00014974644\n",
      "10: 2016                           TRUE        96  0.00014375658\n",
      "11: 2015                           TRUE        74  0.00011081237\n",
      "12: 2014                           TRUE        52  0.00007786815\n",
      "13: 2013                           TRUE        41  0.00006139604\n",
      "14: 2012                           TRUE        25  0.00003743661\n",
      "\n",
      "   year isna_nppes_provider_mi frequency  percent\n",
      "1: 2018                  FALSE   9961865 14.91754\n",
      "2: 2017                  FALSE   9847443 14.74620\n",
      "3: 2016                  FALSE   9714896 14.54771\n",
      "4: 2015                  FALSE   9497891 14.22275\n",
      "5: 2014                  FALSE   9316307 13.95084\n",
      "6: 2013                  FALSE   9287876 13.90826\n",
      "7: 2012                  FALSE   9153272 13.70670\n",
      "\n",
      "    year isna_nppes_credentials frequency         percent\n",
      " 1: 2018                  FALSE   9961858 14.917527895890\n",
      " 2: 2017                  FALSE   9847439 14.746189514604\n",
      " 3: 2016                  FALSE   9714892 14.547705098342\n",
      " 4: 2015                  FALSE   9497887 14.222747832233\n",
      " 5: 2014                  FALSE   9316303 13.950832253287\n",
      " 6: 2013                  FALSE   9287873 13.908259339873\n",
      " 7: 2012                  FALSE   9153267 13.706691644373\n",
      " 8: 2018                   TRUE         7  0.000010482251\n",
      " 9: 2012                   TRUE         5  0.000007487322\n",
      "10: 2014                   TRUE         4  0.000005989858\n",
      "11: 2015                   TRUE         4  0.000005989858\n",
      "12: 2016                   TRUE         4  0.000005989858\n",
      "13: 2017                   TRUE         4  0.000005989858\n",
      "14: 2013                   TRUE         3  0.000004492393\n",
      "\n",
      "   year isna_nppes_provider_gender frequency  percent\n",
      "1: 2018                      FALSE   9961865 14.91754\n",
      "2: 2017                      FALSE   9847443 14.74620\n",
      "3: 2016                      FALSE   9714896 14.54771\n",
      "4: 2015                      FALSE   9497891 14.22275\n",
      "5: 2014                      FALSE   9316307 13.95084\n",
      "6: 2013                      FALSE   9287876 13.90826\n",
      "7: 2012                      FALSE   9153272 13.70670\n",
      "\n",
      "   year isna_nppes_entity_code frequency  percent\n",
      "1: 2018                  FALSE   9961865 14.91754\n",
      "2: 2017                  FALSE   9847443 14.74620\n",
      "3: 2016                  FALSE   9714896 14.54771\n",
      "4: 2015                  FALSE   9497891 14.22275\n",
      "5: 2014                  FALSE   9316307 13.95084\n",
      "6: 2013                  FALSE   9287876 13.90826\n",
      "7: 2012                  FALSE   9153272 13.70670\n",
      "\n",
      "    year isna_nppes_provider_street1 frequency         percent\n",
      " 1: 2018                       FALSE   9961864 14.917536880677\n",
      " 2: 2017                       FALSE   9847441 14.746192509533\n",
      " 3: 2016                       FALSE   9714896 14.547711088200\n",
      " 4: 2015                       FALSE   9497891 14.222753822091\n",
      " 5: 2014                       FALSE   9316305 13.950835248216\n",
      " 6: 2013                       FALSE   9287875 13.908262334802\n",
      " 7: 2012                       FALSE   9153272 13.706699131695\n",
      " 8: 2014                        TRUE         2  0.000002994929\n",
      " 9: 2017                        TRUE         2  0.000002994929\n",
      "10: 2013                        TRUE         1  0.000001497464\n",
      "11: 2018                        TRUE         1  0.000001497464\n",
      "\n",
      "   year isna_nppes_provider_street2 frequency  percent\n",
      "1: 2018                       FALSE   9961865 14.91754\n",
      "2: 2017                       FALSE   9847443 14.74620\n",
      "3: 2016                       FALSE   9714896 14.54771\n",
      "4: 2015                       FALSE   9497891 14.22275\n",
      "5: 2014                       FALSE   9316307 13.95084\n",
      "6: 2013                       FALSE   9287876 13.90826\n",
      "7: 2012                       FALSE   9153272 13.70670\n",
      "\n",
      "    year isna_nppes_provider_city frequency         percent\n",
      " 1: 2018                    FALSE   9961864 14.917536880677\n",
      " 2: 2017                    FALSE   9847441 14.746192509533\n",
      " 3: 2016                    FALSE   9714896 14.547711088200\n",
      " 4: 2015                    FALSE   9497891 14.222753822091\n",
      " 5: 2014                    FALSE   9316305 13.950835248216\n",
      " 6: 2013                    FALSE   9287875 13.908262334802\n",
      " 7: 2012                    FALSE   9153272 13.706699131695\n",
      " 8: 2014                     TRUE         2  0.000002994929\n",
      " 9: 2017                     TRUE         2  0.000002994929\n",
      "10: 2013                     TRUE         1  0.000001497464\n",
      "11: 2018                     TRUE         1  0.000001497464\n",
      "\n",
      "    year isna_nppes_provider_zip frequency         percent\n",
      " 1: 2018                   FALSE   9961863 14.917535383212\n",
      " 2: 2017                   FALSE   9847441 14.746192509533\n",
      " 3: 2016                   FALSE   9714894 14.547708093271\n",
      " 4: 2015                   FALSE   9497891 14.222753822091\n",
      " 5: 2014                   FALSE   9316307 13.950838243145\n",
      " 6: 2013                   FALSE   9287876 13.908263832266\n",
      " 7: 2012                   FALSE   9153272 13.706699131695\n",
      " 8: 2016                    TRUE         2  0.000002994929\n",
      " 9: 2017                    TRUE         2  0.000002994929\n",
      "10: 2018                    TRUE         2  0.000002994929\n",
      "\n",
      "   year isna_nppes_provider_state frequency  percent\n",
      "1: 2018                     FALSE   9961865 14.91754\n",
      "2: 2017                     FALSE   9847443 14.74620\n",
      "3: 2016                     FALSE   9714896 14.54771\n",
      "4: 2015                     FALSE   9497891 14.22275\n",
      "5: 2014                     FALSE   9316307 13.95084\n",
      "6: 2013                     FALSE   9287876 13.90826\n",
      "7: 2012                     FALSE   9153272 13.70670\n",
      "\n",
      "   year isna_nppes_provider_country frequency  percent\n",
      "1: 2018                       FALSE   9961865 14.91754\n",
      "2: 2017                       FALSE   9847443 14.74620\n",
      "3: 2016                       FALSE   9714896 14.54771\n",
      "4: 2015                       FALSE   9497891 14.22275\n",
      "5: 2014                       FALSE   9316307 13.95084\n",
      "6: 2013                       FALSE   9287876 13.90826\n",
      "7: 2012                       FALSE   9153272 13.70670\n",
      "\n",
      "   year isna_provider_type frequency  percent\n",
      "1: 2018              FALSE   9961865 14.91754\n",
      "2: 2017              FALSE   9847443 14.74620\n",
      "3: 2016              FALSE   9714896 14.54771\n",
      "4: 2015              FALSE   9497891 14.22275\n",
      "5: 2014              FALSE   9316307 13.95084\n",
      "6: 2013              FALSE   9287876 13.90826\n",
      "7: 2012              FALSE   9153272 13.70670\n",
      "\n",
      "   year isna_medicare_participation_indicator frequency  percent\n",
      "1: 2018                                 FALSE   9961865 14.91754\n",
      "2: 2017                                 FALSE   9847443 14.74620\n",
      "3: 2016                                 FALSE   9714896 14.54771\n",
      "4: 2015                                 FALSE   9497891 14.22275\n",
      "5: 2014                                 FALSE   9316307 13.95084\n",
      "6: 2013                                 FALSE   9287876 13.90826\n",
      "7: 2012                                 FALSE   9153272 13.70670\n",
      "\n",
      "   year isna_place_of_service frequency  percent\n",
      "1: 2018                 FALSE   9961865 14.91754\n",
      "2: 2017                 FALSE   9847443 14.74620\n",
      "3: 2016                 FALSE   9714896 14.54771\n",
      "4: 2015                 FALSE   9497891 14.22275\n",
      "5: 2014                 FALSE   9316307 13.95084\n",
      "6: 2013                 FALSE   9287876 13.90826\n",
      "7: 2012                 FALSE   9153272 13.70670\n",
      "\n",
      "   year isna_hcpcs_code frequency  percent\n",
      "1: 2018           FALSE   9961865 14.91754\n",
      "2: 2017           FALSE   9847443 14.74620\n",
      "3: 2016           FALSE   9714896 14.54771\n",
      "4: 2015           FALSE   9497891 14.22275\n",
      "5: 2014           FALSE   9316307 13.95084\n",
      "6: 2013           FALSE   9287876 13.90826\n",
      "7: 2012           FALSE   9153272 13.70670\n",
      "\n",
      "   year isna_hcpcs_description frequency  percent\n",
      "1: 2018                  FALSE   9961865 14.91754\n",
      "2: 2017                  FALSE   9847443 14.74620\n",
      "3: 2016                  FALSE   9714896 14.54771\n",
      "4: 2015                  FALSE   9497891 14.22275\n",
      "5: 2014                  FALSE   9316307 13.95084\n",
      "6: 2013                  FALSE   9287876 13.90826\n",
      "7: 2012                  FALSE   9153272 13.70670\n",
      "\n",
      "   year isna_hcpcs_drug_indicator frequency  percent\n",
      "1: 2018                     FALSE   9961865 14.91754\n",
      "2: 2017                     FALSE   9847443 14.74620\n",
      "3: 2016                     FALSE   9714896 14.54771\n",
      "4: 2015                     FALSE   9497891 14.22275\n",
      "5: 2014                     FALSE   9316307 13.95084\n",
      "6: 2013                     FALSE   9287876 13.90826\n",
      "7: 2012                     FALSE   9153272 13.70670\n",
      "\n",
      "   year isna_line_srvc_cnt frequency  percent\n",
      "1: 2018              FALSE   9961865 14.91754\n",
      "2: 2017              FALSE   9847443 14.74620\n",
      "3: 2016              FALSE   9714896 14.54771\n",
      "4: 2015              FALSE   9497891 14.22275\n",
      "5: 2014              FALSE   9316307 13.95084\n",
      "6: 2013              FALSE   9287876 13.90826\n",
      "7: 2012              FALSE   9153272 13.70670\n",
      "\n",
      "   year isna_bene_unique_cnt frequency  percent\n",
      "1: 2018                FALSE   9961865 14.91754\n",
      "2: 2017                FALSE   9847443 14.74620\n",
      "3: 2016                FALSE   9714896 14.54771\n",
      "4: 2015                FALSE   9497891 14.22275\n",
      "5: 2014                FALSE   9316307 13.95084\n",
      "6: 2013                FALSE   9287876 13.90826\n",
      "7: 2012                FALSE   9153272 13.70670\n",
      "\n",
      "   year isna_bene_day_srvc_cnt frequency  percent\n",
      "1: 2018                  FALSE   9961865 14.91754\n",
      "2: 2017                  FALSE   9847443 14.74620\n",
      "3: 2016                  FALSE   9714896 14.54771\n",
      "4: 2015                  FALSE   9497891 14.22275\n",
      "5: 2014                  FALSE   9316307 13.95084\n",
      "6: 2013                  FALSE   9287876 13.90826\n",
      "7: 2012                  FALSE   9153272 13.70670\n",
      "\n",
      "   year isna_average_medicare_allowed_amt frequency  percent\n",
      "1: 2018                             FALSE   9961865 14.91754\n",
      "2: 2017                             FALSE   9847443 14.74620\n",
      "3: 2016                             FALSE   9714896 14.54771\n",
      "4: 2015                             FALSE   9497891 14.22275\n",
      "5: 2014                             FALSE   9316307 13.95084\n",
      "6: 2013                             FALSE   9287876 13.90826\n",
      "7: 2012                             FALSE   9153272 13.70670\n",
      "\n",
      "   year isna_stdev_medicare_allowed_amt frequency  percent\n",
      "1: 2018                            TRUE   9961865 14.91754\n",
      "2: 2017                            TRUE   9847443 14.74620\n",
      "3: 2016                            TRUE   9714896 14.54771\n",
      "4: 2015                            TRUE   9497891 14.22275\n",
      "5: 2014                            TRUE   9316307 13.95084\n",
      "6: 2013                           FALSE   9287876 13.90826\n",
      "7: 2012                           FALSE   9153272 13.70670\n",
      "\n",
      "   year isna_average_submitted_chrg_amt frequency  percent\n",
      "1: 2018                           FALSE   9961865 14.91754\n",
      "2: 2017                           FALSE   9847443 14.74620\n",
      "3: 2016                           FALSE   9714896 14.54771\n",
      "4: 2015                           FALSE   9497891 14.22275\n",
      "5: 2014                           FALSE   9316307 13.95084\n",
      "6: 2013                           FALSE   9287876 13.90826\n",
      "7: 2012                           FALSE   9153272 13.70670\n",
      "\n",
      "   year isna_stdev_submitted_chrg_amt frequency  percent\n",
      "1: 2018                          TRUE   9961865 14.91754\n",
      "2: 2017                          TRUE   9847443 14.74620\n",
      "3: 2016                          TRUE   9714896 14.54771\n",
      "4: 2015                          TRUE   9497891 14.22275\n",
      "5: 2014                          TRUE   9316307 13.95084\n",
      "6: 2013                         FALSE   9287876 13.90826\n",
      "7: 2012                         FALSE   9153272 13.70670\n",
      "\n",
      "   year isna_average_medicare_payment_amt frequency  percent\n",
      "1: 2018                             FALSE   9961865 14.91754\n",
      "2: 2017                             FALSE   9847443 14.74620\n",
      "3: 2016                             FALSE   9714896 14.54771\n",
      "4: 2015                             FALSE   9497891 14.22275\n",
      "5: 2014                             FALSE   9316307 13.95084\n",
      "6: 2013                             FALSE   9287876 13.90826\n",
      "7: 2012                             FALSE   9153272 13.70670\n",
      "\n",
      "   year isna_stdev_medicare_payment_amt frequency  percent\n",
      "1: 2018                            TRUE   9961865 14.91754\n",
      "2: 2017                            TRUE   9847443 14.74620\n",
      "3: 2016                            TRUE   9714896 14.54771\n",
      "4: 2015                            TRUE   9497891 14.22275\n",
      "5: 2014                            TRUE   9316307 13.95084\n",
      "6: 2013                           FALSE   9287876 13.90826\n",
      "7: 2012                           FALSE   9153272 13.70670\n",
      "\n",
      "   year isna_year frequency  percent\n",
      "1: 2018     FALSE   9961865 14.91754\n",
      "2: 2017     FALSE   9847443 14.74620\n",
      "3: 2016     FALSE   9714896 14.54771\n",
      "4: 2015     FALSE   9497891 14.22275\n",
      "5: 2014     FALSE   9316307 13.95084\n",
      "6: 2013     FALSE   9287876 13.90826\n",
      "7: 2012     FALSE   9153272 13.70670\n",
      "\n",
      "   year isna_average_medicare_standard_amt frequency  percent\n",
      "1: 2018                              FALSE   9961865 14.91754\n",
      "2: 2017                              FALSE   9847443 14.74620\n",
      "3: 2016                              FALSE   9714896 14.54771\n",
      "4: 2015                              FALSE   9497891 14.22275\n",
      "5: 2014                              FALSE   9316307 13.95084\n",
      "6: 2013                               TRUE   9287876 13.90826\n",
      "7: 2012                               TRUE   9153272 13.70670\n",
      "\n",
      "17.16 sec elapsed\n",
      "\n",
      " \n"
     ]
    }
   ],
   "source": [
    "tic()\n",
    "\n",
    "dt <- \"medicaref\"\n",
    "\n",
    "for (n in names(medicaref)) \n",
    "{\n",
    "    print(freqsdt(dt,paste0(\"year,\",paste0(\"isna_\",n,'=is.na(',n,')'))))\n",
    "    blanks(1)\n",
    "}\n",
    "\n",
    "toc()\n",
    "\n",
    "blanks(2)"
   ]
  },
  {
   "cell_type": "markdown",
   "metadata": {},
   "source": [
    "Finally, read the two parquet files back into data.tables. The factor version is much faster than the string. Parquet indeed seems a compact and efficient way to share data. I've successfully loaded these files into both pandas and Julia dataframes."
   ]
  },
  {
   "cell_type": "code",
   "execution_count": 44,
   "metadata": {},
   "outputs": [
    {
     "name": "stdout",
     "output_type": "stream",
     "text": [
      "\n",
      "\n",
      "|name     |class                 |rows    |columns|size   |\n",
      "|:--------|:---------------------|:-------|:------|:------|\n",
      "|medicaref|data.table, data.frame|66779550|30     |9.55 GB|\n",
      "\n",
      "Classes 'data.table' and 'data.frame':\t66779550 obs. of  30 variables:\n",
      " $ npi                             : int  1003000126 1003000126 1003000126 1003000126 1003000126 1003000126 1003000126 1003000134 1003000134 1003000134 ...\n",
      " $ nppes_provider_last_org_name    : Factor w/ 318343 levels \"10 33 AMBULANCE SERVICE LIMITED\",..: 60738 60738 60738 60738 60738 60738 60738 37340 37340 37340 ...\n",
      " $ nppes_provider_first_name       : Factor w/ 81568 levels \"\",\"(BARBARA)\",..: 3265 3265 3265 3265 3265 3265 3265 48840 48840 48840 ...\n",
      " $ nppes_provider_mi               : Factor w/ 34 levels \"\",\"'\",\"(\",\"-\",..: 1 1 1 1 1 1 1 19 19 19 ...\n",
      " $ nppes_credentials               : Factor w/ 22866 levels \"\",\"(D.C.) CHIROPRACTIC\",..: 5088 5088 5088 5088 5088 5088 5088 5088 5088 5088 ...\n",
      " $ nppes_provider_gender           : Factor w/ 3 levels \"\",\"F\",\"M\": 3 3 3 3 3 3 3 3 3 3 ...\n",
      " $ nppes_entity_code               : Factor w/ 2 levels \"I\",\"O\": 1 1 1 1 1 1 1 1 1 1 ...\n",
      " $ nppes_provider_street1          : Factor w/ 509545 levels \"# 1 BURDICK EXPY W\",..: 295066 295066 295066 295066 295066 295066 295066 141349 141349 141349 ...\n",
      " $ nppes_provider_street2          : Factor w/ 99699 levels \"\",\"# 0987\",\"# 1\",..: 1 1 1 1 1 1 1 23355 23355 23355 ...\n",
      " $ nppes_provider_city             : Factor w/ 14687 levels \"/WALDPORT\",\"29 PALMS\",..: 2503 2503 2503 2503 2503 2503 2503 3449 3449 3449 ...\n",
      " $ nppes_provider_zip              : Factor w/ 369898 levels \"0000\",\"00000\",..: 61809 61809 61809 61809 61809 61809 61809 164058 164058 164058 ...\n",
      " $ nppes_provider_state            : Factor w/ 61 levels \"AA\",\"AE\",\"AK\",..: 26 26 26 26 26 26 26 20 20 20 ...\n",
      " $ nppes_provider_country          : Factor w/ 41 levels \"AE\",\"AR\",\"AU\",..: 23 23 23 23 23 23 23 23 23 23 ...\n",
      " $ provider_type                   : Factor w/ 127 levels \"Addiction Medicine\",..: 37 37 37 37 37 37 37 61 61 61 ...\n",
      " $ medicare_participation_indicator: Factor w/ 2 levels \"N\",\"Y\": 2 2 2 2 2 2 2 2 2 2 ...\n",
      " $ place_of_service                : Factor w/ 2 levels \"F\",\"O\": 1 1 1 1 1 1 1 1 1 1 ...\n",
      " $ hcpcs_code                      : Factor w/ 7752 levels \"00100\",\"00102\",..: 5230 5231 5235 5236 5237 5241 5242 4518 4519 4522 ...\n",
      " $ hcpcs_description               : Factor w/ 8349 levels \"17-hydroxypregnenolone (hormone) level\",..: 2056 2057 4731 4732 4733 1702 1703 3353 3350 3464 ...\n",
      " $ hcpcs_drug_indicator            : Factor w/ 2 levels \"N\",\"Y\": 1 1 1 1 1 1 1 1 1 1 ...\n",
      " $ line_srvc_cnt                   : num  115 93 111 544 75 95 191 226 6070 13 ...\n",
      " $ bene_unique_cnt                 : int  112 88 83 295 55 95 185 207 3624 13 ...\n",
      " $ bene_day_srvc_cnt               : int  115 93 111 544 75 95 191 209 4416 13 ...\n",
      " $ average_medicare_allowed_amt    : num  135.2 198.6 38.8 71 101.7 ...\n",
      " $ stdev_medicare_allowed_amt      : num  0 0 0 0 0 ...\n",
      " $ average_submitted_chrg_amt      : num  199 291 58 105 150 104 153 115 170 39 ...\n",
      " $ stdev_submitted_chrg_amt        : num  0 9.59 0 0 0 ...\n",
      " $ average_medicare_payment_amt    : num  108.1 158.9 30.7 56.7 81.4 ...\n",
      " $ stdev_medicare_payment_amt      : num  0.901 0 2.929 2.431 0 ...\n",
      " $ year                            : int  2012 2012 2012 2012 2012 2012 2012 2012 2012 2012 ...\n",
      " $ average_medicare_standard_amt   : num  NA NA NA NA NA NA NA NA NA NA ...\n",
      " - attr(*, \".internal.selfref\")=<externalptr> \n",
      "NULL\n",
      "\n",
      "7.38 sec elapsed\n",
      "\n",
      " \n"
     ]
    }
   ],
   "source": [
    "tic()\n",
    "\n",
    "fn <- \"medicarerf.parquet\"\n",
    "medicaref <- read_parquet(fn)\n",
    "\n",
    "meta(medicaref)\n",
    "\n",
    "toc()\n",
    "\n",
    "blanks(2)"
   ]
  },
  {
   "cell_type": "code",
   "execution_count": 45,
   "metadata": {},
   "outputs": [
    {
     "name": "stdout",
     "output_type": "stream",
     "text": [
      "\n",
      "\n",
      "|name     |class                 |rows    |columns|size    |\n",
      "|:--------|:---------------------|:-------|:------|:-------|\n",
      "|medicares|data.table, data.frame|66779550|30     |14.02 GB|\n",
      "\n",
      "Classes 'data.table' and 'data.frame':\t66779550 obs. of  30 variables:\n",
      " $ npi                             : int  1003000126 1003000126 1003000126 1003000126 1003000126 1003000126 1003000126 1003000134 1003000134 1003000134 ...\n",
      " $ nppes_provider_last_org_name    : chr  \"ENKESHAFI\" \"ENKESHAFI\" \"ENKESHAFI\" \"ENKESHAFI\" ...\n",
      " $ nppes_provider_first_name       : chr  \"ARDALAN\" \"ARDALAN\" \"ARDALAN\" \"ARDALAN\" ...\n",
      " $ nppes_provider_mi               : chr  \"\" \"\" \"\" \"\" ...\n",
      " $ nppes_credentials               : chr  \"M.D.\" \"M.D.\" \"M.D.\" \"M.D.\" ...\n",
      " $ nppes_provider_gender           : chr  \"M\" \"M\" \"M\" \"M\" ...\n",
      " $ nppes_entity_code               : chr  \"I\" \"I\" \"I\" \"I\" ...\n",
      " $ nppes_provider_street1          : chr  \"900 SETON DR\" \"900 SETON DR\" \"900 SETON DR\" \"900 SETON DR\" ...\n",
      " $ nppes_provider_street2          : chr  \"\" \"\" \"\" \"\" ...\n",
      " $ nppes_provider_city             : chr  \"CUMBERLAND\" \"CUMBERLAND\" \"CUMBERLAND\" \"CUMBERLAND\" ...\n",
      " $ nppes_provider_zip              : chr  \"215021854\" \"215021854\" \"215021854\" \"215021854\" ...\n",
      " $ nppes_provider_state            : chr  \"MD\" \"MD\" \"MD\" \"MD\" ...\n",
      " $ nppes_provider_country          : chr  \"US\" \"US\" \"US\" \"US\" ...\n",
      " $ provider_type                   : chr  \"Internal Medicine\" \"Internal Medicine\" \"Internal Medicine\" \"Internal Medicine\" ...\n",
      " $ medicare_participation_indicator: chr  \"Y\" \"Y\" \"Y\" \"Y\" ...\n",
      " $ place_of_service                : chr  \"F\" \"F\" \"F\" \"F\" ...\n",
      " $ hcpcs_code                      : chr  \"99222\" \"99223\" \"99231\" \"99232\" ...\n",
      " $ hcpcs_description               : chr  \"Initial hospital inpatient care, typically 50 minutes per day\" \"Initial hospital inpatient care, typically 70 minutes per day\" \"Subsequent hospital inpatient care, typically 15 minutes per day\" \"Subsequent hospital inpatient care, typically 25 minutes per day\" ...\n",
      " $ hcpcs_drug_indicator            : chr  \"N\" \"N\" \"N\" \"N\" ...\n",
      " $ line_srvc_cnt                   : num  115 93 111 544 75 95 191 226 6070 13 ...\n",
      " $ bene_unique_cnt                 : int  112 88 83 295 55 95 185 207 3624 13 ...\n",
      " $ bene_day_srvc_cnt               : int  115 93 111 544 75 95 191 209 4416 13 ...\n",
      " $ average_medicare_allowed_amt    : num  135.2 198.6 38.8 71 101.7 ...\n",
      " $ stdev_medicare_allowed_amt      : num  0 0 0 0 0 ...\n",
      " $ average_submitted_chrg_amt      : num  199 291 58 105 150 104 153 115 170 39 ...\n",
      " $ stdev_submitted_chrg_amt        : num  0 9.59 0 0 0 ...\n",
      " $ average_medicare_payment_amt    : num  108.1 158.9 30.7 56.7 81.4 ...\n",
      " $ stdev_medicare_payment_amt      : num  0.901 0 2.929 2.431 0 ...\n",
      " $ year                            : int  2012 2012 2012 2012 2012 2012 2012 2012 2012 2012 ...\n",
      " $ average_medicare_standard_amt   : num  NA NA NA NA NA NA NA NA NA NA ...\n",
      " - attr(*, \".internal.selfref\")=<externalptr> \n",
      "NULL\n",
      "\n",
      "174.41 sec elapsed\n",
      "\n",
      " \n"
     ]
    }
   ],
   "source": [
    "tic()\n",
    "\n",
    "fn <- \"medicarers.parquet\"\n",
    "medicares <- read_parquet(fn)\n",
    "\n",
    "meta(medicares)\n",
    "\n",
    "toc()\n",
    "\n",
    "blanks(2)"
   ]
  },
  {
   "cell_type": "markdown",
   "metadata": {},
   "source": [
    "That's all for now. Be back soon."
   ]
  }
 ],
 "metadata": {
  "coursera": {
   "course_slug": "python-data-analysis",
   "graded_item_id": "Il9Fx",
   "launcher_item_id": "TeDW0",
   "part_id": "WGlun"
  },
  "kernelspec": {
   "display_name": "R 4.0.2",
   "language": "R",
   "name": "ir402"
  },
  "language_info": {
   "codemirror_mode": "r",
   "file_extension": ".r",
   "mimetype": "text/x-r-source",
   "name": "R",
   "pygments_lexer": "r",
   "version": "4.0.2"
  }
 },
 "nbformat": 4,
 "nbformat_minor": 4
}
