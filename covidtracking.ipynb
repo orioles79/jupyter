{
 "cells": [
  {
   "cell_type": "markdown",
   "metadata": {},
   "source": [
    "### COVID Tracking Project Enhancements to Johns Hopkins Case/Fatality Data\n",
    "\n",
    "Like many analytics geeks, I've been tracking data on the Covid pandemic since early spring.  My main source is the [Center for Systems Science and Engineering at Johns Hopkins University](https://github.com/CSSEGISandData/COVID-19/tree/master/csse_covid_19_data/csse_covid_19_time_series), with files for download made available at midnight Central time. I've established a pretty [significant R infrastructure in JupyterLab](https://www.datasciencecentral.com/profiles/blogs/johns-hopkins-covid-19-and-r-part-iii-world-data-1) to summarize daily developments. The combination of R data.table and tidyverse programming capabilities has made the computation straightforward. \n",
    "\n",
    "Much as I've been successful using the daily Hopkins data on new cases and fatalities with granularity county within state to fuel graphs and dashboards, I recently started seeking hospitalization and ICU figures as well. My hope was to relate cases and hospitalizations to predict fatalities. I was able to identify a website [COVID Tracking Project](https://covidtracking.com/data/national/hospitalization) with such hospitalization data, though my confidence was more with date-aggregated alone rather than state within date, which I initially sought. Turns out COVID hospitalization data summarized by date is much better behaved than the more granular with state added, so I made a concession.\n",
    "\n",
    "The code that follows first scrapes and munges daily hospitalization data from COVID Tracking website, then reads a previously built data.table from the Johns Hopkins Covid data portal, ultimately joining the two on date. I next embellish the data with several covariates and set about to forecasting. \n",
    "\n",
    "The modeling challenges the combined data purports to address involve predicting fatalities as a function of cases and hospitalizations lagged in time. And the model I investigate is akin to those based on \"theories\" I've seen in the news: fatalities(t) = fnct(cases(t-21) + hospitalizations(t-14) + ICU(t-7)). In this instance, the explanatory attributes are considered distributed lag [(DL)](https://www.mathworks.com/help/econ/time-series-regression-viii-lagged-variables-and-estimator-bias.html;jsessionid=8e237585ae4c88ada0da4c87c500) for which the predictors are all exogenous. Now one could reasonably argue that both hospitalizations and ICU should be considered endogenous to cases, but I won't address that here, my intention being to simply show the data integration and modeling steps. I also do not mine the data to find optimal lag levels, wary of overfitting (which, alas, is happening regardless). I simply fit one specification for each modeling function.\n",
    "\n",
    "In the end, I consider two R functions here: the first, linear models with standby lm, the second, gradient boosting from the xgboost package. The precise model specification for both lm and xgboost is fatalities(t) = dayofweek(t) + aftermay(t) + cases(t-21) + hospitalizations(t-14) + ICU(t-7). After each model is fit, I then forecast next week fatalities with both models, settling finally on an average of the two predictions ensemble.\n",
    "\n",
    "What I hope readers take away from this is the thinking behind building multiple data.tables from web downloads/scrapings, combining the data via join/merge functions, then finally starting the exploration and modeling processes. \n",
    "\n",
    "The software used below is JupyterLab 2.1.2 and R 4.0.2. R's splendid tidyverse and data.table packages are featured for data analysis, while lm and xgboost are used for modeling.\n"
   ]
  },
  {
   "cell_type": "markdown",
   "metadata": {},
   "source": [
    "Confirm current R library folders."
   ]
  },
  {
   "cell_type": "code",
   "execution_count": 1,
   "metadata": {},
   "outputs": [
    {
     "data": {
      "text/html": [
       "<style>\n",
       ".list-inline {list-style: none; margin:0; padding: 0}\n",
       ".list-inline>li {display: inline-block}\n",
       ".list-inline>li:not(:last-child)::after {content: \"\\00b7\"; padding: 0 .5ex}\n",
       "</style>\n",
       "<ol class=list-inline><li>'C:/R/4.0.2/library'</li><li>'C:/Program Files/R/R-4.0.2/library'</li></ol>\n"
      ],
      "text/latex": [
       "\\begin{enumerate*}\n",
       "\\item 'C:/R/4.0.2/library'\n",
       "\\item 'C:/Program Files/R/R-4.0.2/library'\n",
       "\\end{enumerate*}\n"
      ],
      "text/markdown": [
       "1. 'C:/R/4.0.2/library'\n",
       "2. 'C:/Program Files/R/R-4.0.2/library'\n",
       "\n",
       "\n"
      ],
      "text/plain": [
       "[1] \"C:/R/4.0.2/library\"                 \"C:/Program Files/R/R-4.0.2/library\""
      ]
     },
     "metadata": {},
     "output_type": "display_data"
    }
   ],
   "source": [
    ".libPaths()"
   ]
  },
  {
   "cell_type": "markdown",
   "metadata": {},
   "source": [
    "Load libraries and include personal functions."
   ]
  },
  {
   "cell_type": "code",
   "execution_count": 2,
   "metadata": {},
   "outputs": [
    {
     "name": "stdout",
     "output_type": "stream",
     "text": [
      "\n"
     ]
    },
    {
     "data": {
      "text/plain": [
       "allfreqs : function (dtn, catlim = 100)  \n",
       "blanks : function (howmany)  \n",
       "colsize : function (dt)  \n",
       "dtmeta : function (df)  \n",
       "freqsdt : function (DTstr, xstr, percent = TRUE)  \n",
       "meta : function (df, data = FALSE, dict = TRUE)  \n",
       "mksumfreq : function (freqalldt)  \n",
       "mksumfreq2 : function (dt)  \n",
       "mykab : function (dt)  \n",
       "obj_sz : function (obj)  \n",
       "prhead : function (df, howmany = 6)  \n",
       "prheadtail : function (df, howmany = 6)  "
      ]
     },
     "metadata": {},
     "output_type": "display_data"
    },
    {
     "name": "stdout",
     "output_type": "stream",
     "text": [
      "\n",
      " \n"
     ]
    }
   ],
   "source": [
    "options(warn=-1) \n",
    "options(scipen = 20)\n",
    "options(datatable.print.topn=100)\n",
    "options(datatable.showProgress=FALSE)\n",
    "\n",
    "usualsuspects <- c(\n",
    "    'tidyverse', 'data.table', 'pryr', 'plyr','readxl', 'bit', 'grid', 'gridExtra',     \n",
    "    'rvest', 'magrittr','lubridate','rlist', 'tictoc', 'skimr','pracma','TTR',\n",
    "    'fst','feather','rio', 'Rcpp','tidyquant', 'Matrix', 'arrow',\n",
    "    'knitr', 'kableExtra', 'microbenchmark', \"Metrics\",\n",
    "    'ggplot2','RColorBrewer',\n",
    "    'magick',\"webshot\",\"IRdisplay\",    \n",
    "    'incidence','outbreaks','EpiEstim', 'modeltime', \n",
    "    'forecast', 'timetk', 'h2o','xgboost', 'catboost', 'lightgbm'\n",
    ") \n",
    "\n",
    "suppressMessages(invisible(lapply(usualsuspects, library, character.only = TRUE)))\n",
    "\n",
    "funcsdir <- \"/steve/r/functions\"\n",
    "funcsfile <- \"rfunctions.r\"\n",
    "\n",
    "setwd(funcsdir)\n",
    "source(funcsfile)\n",
    "\n",
    "cppdir <- \"c:/steve/c++/rstudio\"\n",
    "setwd(cppdir)\n",
    "\n",
    "blanks(1)\n",
    "lsf.str()\n",
    "\n",
    "set.seed(543)\n",
    "\n",
    "blanks(2)"
   ]
  },
  {
   "cell_type": "markdown",
   "metadata": {},
   "source": [
    "Define type-saving functions for the lazy analyst."
   ]
  },
  {
   "cell_type": "code",
   "execution_count": 3,
   "metadata": {},
   "outputs": [
    {
     "name": "stdout",
     "output_type": "stream",
     "text": [
      "\n",
      " \n"
     ]
    }
   ],
   "source": [
    "diffna <- function (var) c(NA,diff(var))\n",
    "prodna <- function (var) prod(var,na.rm=TRUE)\n",
    "sumna <- function (var) sum(var,na.rm=TRUE)\n",
    "meanna <- function (var) round(mean(var,na.rm=TRUE))\n",
    "freadfac <- function (var) data.table::fread(var,stringsAsFactors=TRUE)\n",
    "fstrddt <- function(var) fst::read_fst(var,as.data.table=TRUE)\n",
    "movavg <- function (var, lags) round(data.table::frollmean(var,lags))\n",
    "meancov <- function(var) round(mean(var))\n",
    "wkday <- function(dt) lubridate::wday(dt,label=TRUE)\n",
    "\n",
    "blanks(2)"
   ]
  },
  {
   "cell_type": "markdown",
   "metadata": {},
   "source": [
    "Scrape CovidTracking hospitalization data using the tidyverse rvest library."
   ]
  },
  {
   "cell_type": "code",
   "execution_count": 4,
   "metadata": {},
   "outputs": [
    {
     "data": {
      "text/html": [
       "<style>\n",
       ".list-inline {list-style: none; margin:0; padding: 0}\n",
       ".list-inline>li {display: inline-block}\n",
       ".list-inline>li:not(:last-child)::after {content: \"\\00b7\"; padding: 0 .5ex}\n",
       "</style>\n",
       "<ol class=list-inline><li>'DateDec 10, 2020'</li><li>'Currently hospitalized/Now hospitalized107,258'</li><li>'Currently in ICU/Now in ICU21,023'</li><li>'Currently on ventilator/Now on ventilator7,442'</li><li>'DateDec 9, 2020'</li><li>'Currently hospitalized/Now hospitalized106,705'</li><li>'Currently in ICU/Now in ICU20,906'</li><li>'Currently on ventilator/Now on ventilator7,624'</li><li>'DateDec 8, 2020'</li><li>'Currently hospitalized/Now hospitalized104,590'</li><li>'Currently in ICU/Now in ICU20,483'</li><li>'Currently on ventilator/Now on ventilator7,245'</li><li>'DateDec 7, 2020'</li><li>'Currently hospitalized/Now hospitalized102,148'</li><li>'Currently in ICU/Now in ICU20,098'</li><li>'Currently on ventilator/Now on ventilator7,073'</li><li>'DateDec 6, 2020'</li><li>'Currently hospitalized/Now hospitalized101,501'</li><li>'Currently in ICU/Now in ICU20,145'</li><li>'Currently on ventilator/Now on ventilator7,095'</li></ol>\n"
      ],
      "text/latex": [
       "\\begin{enumerate*}\n",
       "\\item 'DateDec 10, 2020'\n",
       "\\item 'Currently hospitalized/Now hospitalized107,258'\n",
       "\\item 'Currently in ICU/Now in ICU21,023'\n",
       "\\item 'Currently on ventilator/Now on ventilator7,442'\n",
       "\\item 'DateDec 9, 2020'\n",
       "\\item 'Currently hospitalized/Now hospitalized106,705'\n",
       "\\item 'Currently in ICU/Now in ICU20,906'\n",
       "\\item 'Currently on ventilator/Now on ventilator7,624'\n",
       "\\item 'DateDec 8, 2020'\n",
       "\\item 'Currently hospitalized/Now hospitalized104,590'\n",
       "\\item 'Currently in ICU/Now in ICU20,483'\n",
       "\\item 'Currently on ventilator/Now on ventilator7,245'\n",
       "\\item 'DateDec 7, 2020'\n",
       "\\item 'Currently hospitalized/Now hospitalized102,148'\n",
       "\\item 'Currently in ICU/Now in ICU20,098'\n",
       "\\item 'Currently on ventilator/Now on ventilator7,073'\n",
       "\\item 'DateDec 6, 2020'\n",
       "\\item 'Currently hospitalized/Now hospitalized101,501'\n",
       "\\item 'Currently in ICU/Now in ICU20,145'\n",
       "\\item 'Currently on ventilator/Now on ventilator7,095'\n",
       "\\end{enumerate*}\n"
      ],
      "text/markdown": [
       "1. 'DateDec 10, 2020'\n",
       "2. 'Currently hospitalized/Now hospitalized107,258'\n",
       "3. 'Currently in ICU/Now in ICU21,023'\n",
       "4. 'Currently on ventilator/Now on ventilator7,442'\n",
       "5. 'DateDec 9, 2020'\n",
       "6. 'Currently hospitalized/Now hospitalized106,705'\n",
       "7. 'Currently in ICU/Now in ICU20,906'\n",
       "8. 'Currently on ventilator/Now on ventilator7,624'\n",
       "9. 'DateDec 8, 2020'\n",
       "10. 'Currently hospitalized/Now hospitalized104,590'\n",
       "11. 'Currently in ICU/Now in ICU20,483'\n",
       "12. 'Currently on ventilator/Now on ventilator7,245'\n",
       "13. 'DateDec 7, 2020'\n",
       "14. 'Currently hospitalized/Now hospitalized102,148'\n",
       "15. 'Currently in ICU/Now in ICU20,098'\n",
       "16. 'Currently on ventilator/Now on ventilator7,073'\n",
       "17. 'DateDec 6, 2020'\n",
       "18. 'Currently hospitalized/Now hospitalized101,501'\n",
       "19. 'Currently in ICU/Now in ICU20,145'\n",
       "20. 'Currently on ventilator/Now on ventilator7,095'\n",
       "\n",
       "\n"
      ],
      "text/plain": [
       " [1] \"DateDec 10, 2020\"                              \n",
       " [2] \"Currently hospitalized/Now hospitalized107,258\"\n",
       " [3] \"Currently in ICU/Now in ICU21,023\"             \n",
       " [4] \"Currently on ventilator/Now on ventilator7,442\"\n",
       " [5] \"DateDec 9, 2020\"                               \n",
       " [6] \"Currently hospitalized/Now hospitalized106,705\"\n",
       " [7] \"Currently in ICU/Now in ICU20,906\"             \n",
       " [8] \"Currently on ventilator/Now on ventilator7,624\"\n",
       " [9] \"DateDec 8, 2020\"                               \n",
       "[10] \"Currently hospitalized/Now hospitalized104,590\"\n",
       "[11] \"Currently in ICU/Now in ICU20,483\"             \n",
       "[12] \"Currently on ventilator/Now on ventilator7,245\"\n",
       "[13] \"DateDec 7, 2020\"                               \n",
       "[14] \"Currently hospitalized/Now hospitalized102,148\"\n",
       "[15] \"Currently in ICU/Now in ICU20,098\"             \n",
       "[16] \"Currently on ventilator/Now on ventilator7,073\"\n",
       "[17] \"DateDec 6, 2020\"                               \n",
       "[18] \"Currently hospitalized/Now hospitalized101,501\"\n",
       "[19] \"Currently in ICU/Now in ICU20,145\"             \n",
       "[20] \"Currently on ventilator/Now on ventilator7,095\""
      ]
     },
     "metadata": {},
     "output_type": "display_data"
    },
    {
     "name": "stdout",
     "output_type": "stream",
     "text": [
      "\n",
      " \n"
     ]
    }
   ],
   "source": [
    "url <- \"https://covidtracking.com/data/national/hospitalization\"\n",
    "css <- \"td\"\n",
    "\n",
    "html <- (read_html(url) %>% html_nodes(css) %>% html_text())\n",
    "\n",
    "head(html,20)\n",
    "\n",
    "blanks(2)"
   ]
  },
  {
   "cell_type": "markdown",
   "metadata": {},
   "source": [
    "Wrangle said data with tidyverse chaining to produce a data.table suitable for downstream processing."
   ]
  },
  {
   "cell_type": "code",
   "execution_count": 5,
   "metadata": {},
   "outputs": [
    {
     "name": "stdout",
     "output_type": "stream",
     "text": [
      "\n",
      "\n",
      "|name|class                 |rows|columns|size    |\n",
      "|:---|:---------------------|:---|:------|:-------|\n",
      "|dt  |data.table, data.frame|324 |4      |74.14 KB|\n",
      "\n",
      "Classes 'data.table' and 'data.frame':\t324 obs. of  4 variables:\n",
      " $ date        : chr  \"Dec 10, 2020\" \"Dec 9, 2020\" \"Dec 8, 2020\" \"Dec 7, 2020\" ...\n",
      " $ hospitalized: chr  \"107,258\" \"106,705\" \"104,590\" \"102,148\" ...\n",
      " $ ICU         : chr  \"21,023\" \"20,906\" \"20,483\" \"20,098\" ...\n",
      " $ ventilator  : chr  \"7,442\" \"7,624\" \"7,245\" \"7,073\" ...\n",
      " - attr(*, \".internal.selfref\")=<externalptr> \n",
      "NULL\n",
      "\n"
     ]
    },
    {
     "data": {
      "text/plain": [
       "\n",
       "\n",
       "|date        |hospitalized|ICU   |ventilator|\n",
       "|:-----------|:-----------|:-----|:---------|\n",
       "|Dec 10, 2020|107,258     |21,023|7,442     |\n",
       "|Dec 9, 2020 |106,705     |20,906|7,624     |\n",
       "|Dec 8, 2020 |104,590     |20,483|7,245     |\n",
       "|Dec 7, 2020 |102,148     |20,098|7,073     |\n",
       "|Dec 6, 2020 |101,501     |20,145|7,095     |\n",
       "|Dec 5, 2020 |101,192     |19,947|7,006     |"
      ]
     },
     "metadata": {},
     "output_type": "display_data"
    },
    {
     "name": "stdout",
     "output_type": "stream",
     "text": [
      "\n",
      " \n"
     ]
    }
   ],
   "source": [
    "html <- html %>% gsub(\"Currently on ventilator/Now on ventilator\",\"\",.) %>% gsub(\"Currently in ICU/Now in ICU\",\"\",.) %>%  \n",
    "            gsub(\"Currently hospitalized/Now hospitalized\",\"\",.)  %>% gsub(\"Date\",\"\",.)\n",
    "dt <- data.table(matrix(html,ncol=4,byrow=TRUE)) %>% setnames(.,c(\"date\",\"hospitalized\",\"ICU\",'ventilator'))\n",
    "\n",
    "meta(dt)\n",
    "blanks(1)\n",
    "mykab(head(dt))\n",
    "\n",
    "blanks(2)"
   ]
  },
  {
   "cell_type": "markdown",
   "metadata": {},
   "source": [
    "Transform character data to numeric with data.table chaining."
   ]
  },
  {
   "cell_type": "code",
   "execution_count": 6,
   "metadata": {},
   "outputs": [
    {
     "name": "stdout",
     "output_type": "stream",
     "text": [
      "\n",
      "\n",
      "|name|class                 |rows|columns|size   |\n",
      "|:---|:---------------------|:---|:------|:------|\n",
      "|dt  |data.table, data.frame|324 |4      |8.04 KB|\n",
      "\n",
      "Classes 'data.table' and 'data.frame':\t324 obs. of  4 variables:\n",
      " $ date        : Date, format: \"2020-01-22\" \"2020-01-23\" ...\n",
      " $ hospitalized: int  NA NA NA NA NA NA NA NA NA NA ...\n",
      " $ ICU         : int  NA NA NA NA NA NA NA NA NA NA ...\n",
      " $ ventilator  : int  NA NA NA NA NA NA NA NA NA NA ...\n",
      " - attr(*, \".internal.selfref\")=<externalptr> \n",
      " - attr(*, \"sorted\")= chr \"date\"\n",
      "NULL\n",
      "\n",
      "          date hospitalized ICU ventilator\n",
      " 1: 2020-01-22           NA  NA         NA\n",
      " 2: 2020-01-23           NA  NA         NA\n",
      " 3: 2020-01-24           NA  NA         NA\n",
      " 4: 2020-01-25           NA  NA         NA\n",
      " 5: 2020-01-26           NA  NA         NA\n",
      " 6: 2020-01-27           NA  NA         NA\n",
      " 7: 2020-01-28           NA  NA         NA\n",
      " 8: 2020-01-29           NA  NA         NA\n",
      " 9: 2020-01-30           NA  NA         NA\n",
      "10: 2020-01-31           NA  NA         NA\n",
      "\n",
      "          date hospitalized   ICU ventilator\n",
      " 1: 2020-12-01        98777 19295       6649\n",
      " 2: 2020-12-02       100322 19680       6855\n",
      " 3: 2020-12-03       100755 19723       6867\n",
      " 4: 2020-12-04       101276 19858       6999\n",
      " 5: 2020-12-05       101192 19947       7006\n",
      " 6: 2020-12-06       101501 20145       7095\n",
      " 7: 2020-12-07       102148 20098       7073\n",
      " 8: 2020-12-08       104590 20483       7245\n",
      " 9: 2020-12-09       106705 20906       7624\n",
      "10: 2020-12-10       107258 21023       7442\n",
      "\n",
      "\n",
      " \n"
     ]
    }
   ],
   "source": [
    "invisible(dt[,c(\"date\",\"hospitalized\",\"ICU\",\"ventilator\"):=.(mdy(date),gsub(\",\",\"\",hospitalized),gsub(\",\",\"\",ICU),gsub(\",\",\"\",ventilator))][,\n",
    "            hospitalized:=ifelse(hospitalized==\"N/A\",NA,as.integer(hospitalized))][,ICU:=ifelse(ICU==\"N/A\",NA,as.integer(ICU))][,\n",
    "            ventilator:=ifelse(ventilator==\"N/A\",NA,as.integer(ventilator))])\n",
    "dt <- dt[order(date)]\n",
    "\n",
    "setkey(dt,date)\n",
    "\n",
    "meta(dt)\n",
    "blanks(1)\n",
    "prheadtail(dt,howmany=10)\n",
    "\n",
    "\n",
    "blanks(2)"
   ]
  },
  {
   "cell_type": "markdown",
   "metadata": {},
   "source": [
    "Save the finished table to an fst file."
   ]
  },
  {
   "cell_type": "code",
   "execution_count": 7,
   "metadata": {},
   "outputs": [
    {
     "name": "stdout",
     "output_type": "stream",
     "text": [
      "\n",
      " \n"
     ]
    }
   ],
   "source": [
    "wdir <- \"/data/covidtracking\"\n",
    "setwd(wdir)\n",
    "\n",
    "fname <- \"hospitalizations.fst\"\n",
    "write_fst(dt,fname)\n",
    "\n",
    "blanks(2)"
   ]
  },
  {
   "cell_type": "markdown",
   "metadata": {},
   "source": [
    "Starting date with all hospitalization attributes non-missing."
   ]
  },
  {
   "cell_type": "code",
   "execution_count": 8,
   "metadata": {},
   "outputs": [
    {
     "name": "stdout",
     "output_type": "stream",
     "text": [
      "         date hospitalized  ICU ventilator\n",
      "1: 2020-03-26         7805 1299        258\n",
      "2: 2020-03-27        10978 1792        324\n",
      "3: 2020-03-28        12409 2174        390\n",
      "4: 2020-03-29        14055 2456        439\n",
      "5: 2020-03-30        15917 3087        451\n",
      "6: 2020-03-31        18155 3487        507\n",
      "\n",
      "         date hospitalized   ICU ventilator\n",
      "1: 2020-12-05       101192 19947       7006\n",
      "2: 2020-12-06       101501 20145       7095\n",
      "3: 2020-12-07       102148 20098       7073\n",
      "4: 2020-12-08       104590 20483       7245\n",
      "5: 2020-12-09       106705 20906       7624\n",
      "6: 2020-12-10       107258 21023       7442\n",
      "\n",
      "\n",
      " \n"
     ]
    }
   ],
   "source": [
    "prheadtail(dt[date>\"2020-03-25\"])\n",
    "\n",
    "blanks(2)"
   ]
  },
  {
   "cell_type": "markdown",
   "metadata": {},
   "source": [
    "Load the saved John Hopkins case/fatality data."
   ]
  },
  {
   "cell_type": "code",
   "execution_count": 9,
   "metadata": {},
   "outputs": [
    {
     "name": "stdout",
     "output_type": "stream",
     "text": [
      "[1] \"mfinal-2020-12-10.fst\"\n",
      "\n",
      "\n",
      "|name    |class                 |rows   |columns|size   |\n",
      "|:-------|:---------------------|:------|:------|:------|\n",
      "|mfinalus|data.table, data.frame|1082160|17     |87.1 MB|\n",
      "\n",
      "Classes 'data.table' and 'data.frame':\t1082160 obs. of  17 variables:\n",
      " $ uid           : int  84045001 84045001 84045001 84045001 84045001 84045001 84045001 84045001 84045001 84045001 ...\n",
      " $ iso2          : Factor w/ 6 levels \"AS\",\"GU\",\"MP\",..: 5 5 5 5 5 5 5 5 5 5 ...\n",
      " $ iso3          : Factor w/ 6 levels \"ASM\",\"GUM\",\"MNP\",..: 5 5 5 5 5 5 5 5 5 5 ...\n",
      " $ code3         : int  840 840 840 840 840 840 840 840 840 840 ...\n",
      " $ fips          : num  45001 45001 45001 45001 45001 ...\n",
      " $ admin2        : Factor w/ 1979 levels \"\",\"Abbeville\",..: 2 2 2 2 2 2 2 2 2 2 ...\n",
      " $ state         : Factor w/ 58 levels \"Alabama\",\"Alaska\",..: 47 47 47 47 47 47 47 47 47 47 ...\n",
      " $ country_region: Factor w/ 1 level \"US\": 1 1 1 1 1 1 1 1 1 1 ...\n",
      " $ lat           : num  34.2 34.2 34.2 34.2 34.2 ...\n",
      " $ long_         : num  -82.5 -82.5 -82.5 -82.5 -82.5 ...\n",
      " $ combined_key  : Factor w/ 3340 levels \"Abbeville, South Carolina, US\",..: 1 1 1 1 1 1 1 1 1 1 ...\n",
      " $ date          : Date, format: \"2020-01-22\" \"2020-01-23\" ...\n",
      " $ cumcases      : int  0 0 0 0 0 0 0 0 0 0 ...\n",
      " $ daycases      : int  NA 0 0 0 0 0 0 0 0 0 ...\n",
      " $ population    : int  24527 24527 24527 24527 24527 24527 24527 24527 24527 24527 ...\n",
      " $ cumdeaths     : int  0 0 0 0 0 0 0 0 0 0 ...\n",
      " $ daydeaths     : int  NA 0 0 0 0 0 0 0 0 0 ...\n",
      " - attr(*, \".internal.selfref\")=<externalptr> \n",
      "NULL\n",
      "[1] \"2020-12-10\"\n",
      "\n",
      " \n"
     ]
    }
   ],
   "source": [
    "wd <- \"c:/steve/covid/magrsave\"\n",
    "setwd(wd)\n",
    "\n",
    "fname <- tail(list.files( pattern = \"mfinal*\"),1)\n",
    "print(fname)\n",
    "mfinalus <- import(fname,setclass=\"data.table\")\n",
    "\n",
    "meta(mfinalus)\n",
    "\n",
    "print(max(mfinalus$date))\n",
    "\n",
    "blanks(2)"
   ]
  },
  {
   "cell_type": "markdown",
   "metadata": {},
   "source": [
    "Demonstrate the need for a few \"covariates\" to aid in forecasting. The first shows variation in cases/fatalities by day of the week. This is simply a reporting artifact."
   ]
  },
  {
   "cell_type": "code",
   "execution_count": 10,
   "metadata": {},
   "outputs": [
    {
     "data": {
      "text/plain": [
       "\n",
       "\n",
       "|wkday|N  |daycases|daydeaths|pctcases|pctdeaths|\n",
       "|:----|:--|:-------|:--------|:-------|:--------|\n",
       "|Wed  |47 |2341399 |54395    |15.00   |18.62    |\n",
       "|Thu  |47 |2462133 |49380    |15.77   |16.90    |\n",
       "|Fri  |46 |2453703 |45750    |15.72   |15.66    |\n",
       "|Sat  |46 |2216702 |38970    |14.20   |13.34    |\n",
       "|Sun  |46 |1880141 |24106    |12.04   |8.25     |\n",
       "|Mon  |46 |2010159 |28302    |12.88   |9.69     |\n",
       "|Tue  |46 |2246776 |51238    |14.39   |17.54    |"
      ]
     },
     "metadata": {},
     "output_type": "display_data"
    },
    {
     "name": "stdout",
     "output_type": "stream",
     "text": [
      "\n",
      " \n"
     ]
    }
   ],
   "source": [
    "mykab(mfinalus[,.(daycases=sumna(daycases),daydeaths=sumna(daydeaths)),.(date)][\n",
    "    ,.(.N,daycases=sumna(daycases),daydeaths=sumna(daydeaths)),.(wkday(date))][\n",
    "    ,`:=`(pctcases=round(100*daycases/sum(daycases),2),pctdeaths=round(100*daydeaths/sum(daydeaths),2))])\n",
    "\n",
    "blanks(2)"
   ]
  },
  {
   "cell_type": "markdown",
   "metadata": {},
   "source": [
    "This one shows the difference in the case mortality rate before and after the last day in May."
   ]
  },
  {
   "cell_type": "code",
   "execution_count": 11,
   "metadata": {},
   "outputs": [
    {
     "data": {
      "text/plain": [
       "\n",
       "\n",
       "|aftermay|fatalrate|\n",
       "|:-------|:--------|\n",
       "|FALSE   |6.00     |\n",
       "|TRUE    |1.34     |"
      ]
     },
     "metadata": {},
     "output_type": "display_data"
    },
    {
     "name": "stdout",
     "output_type": "stream",
     "text": [
      "\n",
      " \n"
     ]
    }
   ],
   "source": [
    "mykab(mfinalus[,.(daycases=sumna(daycases),daydeaths=sumna(daydeaths)),.(aftermay=date>\"2020-05-31\")][\n",
    "    ,.(aftermay,fatalrate=round(100*(daydeaths/daycases),2))])\n",
    "\n",
    "blanks(2)"
   ]
  },
  {
   "cell_type": "markdown",
   "metadata": {},
   "source": [
    "Now join the case/fatality and hospitalization/ICU data.tables, adding dayofweek and aftermay covariates."
   ]
  },
  {
   "cell_type": "code",
   "execution_count": 12,
   "metadata": {},
   "outputs": [
    {
     "name": "stdout",
     "output_type": "stream",
     "text": [
      "\n",
      "\n",
      "|name      |class                 |rows|columns|size    |\n",
      "|:---------|:---------------------|:---|:------|:-------|\n",
      "|covidfinal|data.table, data.frame|324 |9      |15.92 KB|\n",
      "\n",
      "Classes 'data.table' and 'data.frame':\t324 obs. of  9 variables:\n",
      " $ date        : Date, format: \"2020-01-22\" \"2020-01-23\" ...\n",
      " $ hospitalized: int  NA NA NA NA NA NA NA NA NA NA ...\n",
      " $ ICU         : int  NA NA NA NA NA NA NA NA NA NA ...\n",
      " $ ventilator  : int  NA NA NA NA NA NA NA NA NA NA ...\n",
      " $ daycases    : int  0 0 1 0 3 0 0 1 0 2 ...\n",
      " $ daydeaths   : int  0 0 0 0 0 0 0 0 0 0 ...\n",
      " $ dayofweek   : Ord.factor w/ 7 levels \"Sun\"<\"Mon\"<\"Tue\"<..: 4 5 6 7 1 2 3 4 5 6 ...\n",
      " $ aftermay    : logi  FALSE FALSE FALSE FALSE FALSE FALSE ...\n",
      " $ idx         : int  324 323 322 321 320 319 318 317 316 315 ...\n",
      " - attr(*, \"sorted\")= chr \"date\"\n",
      " - attr(*, \".internal.selfref\")=<externalptr> \n",
      "NULL\n",
      "\n",
      "         date hospitalized ICU ventilator daycases daydeaths dayofweek aftermay\n",
      "1: 2020-01-22           NA  NA         NA        0         0       Wed    FALSE\n",
      "2: 2020-01-23           NA  NA         NA        0         0       Thu    FALSE\n",
      "3: 2020-01-24           NA  NA         NA        1         0       Fri    FALSE\n",
      "4: 2020-01-25           NA  NA         NA        0         0       Sat    FALSE\n",
      "5: 2020-01-26           NA  NA         NA        3         0       Sun    FALSE\n",
      "6: 2020-01-27           NA  NA         NA        0         0       Mon    FALSE\n",
      "   idx\n",
      "1: 324\n",
      "2: 323\n",
      "3: 322\n",
      "4: 321\n",
      "5: 320\n",
      "6: 319\n",
      "\n",
      "         date hospitalized   ICU ventilator daycases daydeaths dayofweek\n",
      "1: 2020-12-05       101192 19947       7006   213881      2254       Sat\n",
      "2: 2020-12-06       101501 20145       7095   175664      1113       Sun\n",
      "3: 2020-12-07       102148 20098       7073   192435      1404       Mon\n",
      "4: 2020-12-08       104590 20483       7245   215878      2546       Tue\n",
      "5: 2020-12-09       106705 20906       7624   221267      3124       Wed\n",
      "6: 2020-12-10       107258 21023       7442   224452      2768       Thu\n",
      "   aftermay idx\n",
      "1:     TRUE   6\n",
      "2:     TRUE   5\n",
      "3:     TRUE   4\n",
      "4:     TRUE   3\n",
      "5:     TRUE   2\n",
      "6:     TRUE   1\n",
      "\n",
      "\n",
      " \n"
     ]
    }
   ],
   "source": [
    "covidjhu <- mfinalus[,.(daycases=sumna(daycases),daydeaths=sumna(daydeaths)),.(date)]\n",
    "covidfinal <- dt[covidjhu][,dayofweek:=wkday(date)][,aftermay:=date>\"2020-05-31\"][,idx:=.N:1]\n",
    "\n",
    "meta(covidfinal)\n",
    "blanks(1)\n",
    "prheadtail(covidfinal) \n",
    "\n",
    "blanks(2)"
   ]
  },
  {
   "cell_type": "markdown",
   "metadata": {},
   "source": [
    "Save the joined data in fst, feather, and parquet formats."
   ]
  },
  {
   "cell_type": "code",
   "execution_count": 13,
   "metadata": {},
   "outputs": [
    {
     "name": "stdout",
     "output_type": "stream",
     "text": [
      "\n",
      " \n"
     ]
    }
   ],
   "source": [
    "wdir <- \"/data/covidtracking\"\n",
    "setwd(wdir)\n",
    "\n",
    "\n",
    "fname <- \"coviddaily.fst\"\n",
    "write_fst(covidfinal,fname)\n",
    "\n",
    "fname <- \"coviddaily.feather\"\n",
    "write_feather(covidfinal,fname)\n",
    "\n",
    "fname <- \"coviddaily.parquet\"\n",
    "write_parquet(covidfinal,fname)\n",
    "\n",
    "blanks(2)"
   ]
  },
  {
   "cell_type": "markdown",
   "metadata": {},
   "source": [
    "Build the data.table to be used for forecasting."
   ]
  },
  {
   "cell_type": "code",
   "execution_count": 14,
   "metadata": {},
   "outputs": [
    {
     "name": "stdout",
     "output_type": "stream",
     "text": [
      "\n",
      "\n",
      "|name       |class                 |rows|columns|size    |\n",
      "|:----------|:---------------------|:---|:------|:-------|\n",
      "|ncovidfinal|data.table, data.frame|260 |12     |16.81 KB|\n",
      "\n",
      "Classes 'data.table' and 'data.frame':\t260 obs. of  12 variables:\n",
      " $ date              : Date, format: \"2020-03-26\" \"2020-03-27\" ...\n",
      " $ hospitalized      : int  7805 10978 12409 14055 15917 18155 20906 22997 25777 30268 ...\n",
      " $ ICU               : int  1299 1792 2174 2456 3087 3487 3937 4513 4928 5500 ...\n",
      " $ ventilator        : int  258 324 390 439 451 507 561 574 623 656 ...\n",
      " $ daycases          : int  17840 18680 19607 18879 22082 26316 25883 30387 31970 33015 ...\n",
      " $ daydeaths         : int  412 518 633 592 696 1092 1180 1503 1393 1541 ...\n",
      " $ dayofweek         : Ord.factor w/ 7 levels \"Sun\"<\"Mon\"<\"Tue\"<..: 5 6 7 1 2 3 4 5 6 7 ...\n",
      " $ aftermay          : logi  FALSE FALSE FALSE FALSE FALSE FALSE ...\n",
      " $ idx               : int  260 259 258 257 256 255 254 253 252 251 ...\n",
      " $ daycases_lag21    : int  NA NA NA NA NA NA NA NA NA NA ...\n",
      " $ hospitalized_lag14: int  NA NA NA NA NA NA NA NA NA NA ...\n",
      " $ ICU_lag7          : int  NA NA NA NA NA NA NA 1299 1792 2174 ...\n",
      " - attr(*, \"sorted\")= chr \"date\"\n",
      " - attr(*, \".internal.selfref\")=<externalptr> \n",
      "NULL\n",
      "\n",
      " \n"
     ]
    }
   ],
   "source": [
    "ncovidfinal <- covidfinal[date>\"2020-03-25\"][,c(\"daycases_lag21\",\"hospitalized_lag14\",\"ICU_lag7\")\n",
    "                          :=.(shift(daycases, 21L, fill = NA, type = \"lag\"),\n",
    "                             shift(hospitalized, 14L, fill = NA, type = \"lag\"),\n",
    "                             shift(ICU, 7L, fill = NA, type = \"lag\"))]\n",
    "\n",
    "nr <- nrow(ncovidfinal)\n",
    "meta(ncovidfinal)\n",
    "\n",
    "blanks(2)"
   ]
  },
  {
   "cell_type": "markdown",
   "metadata": {},
   "source": [
    "A few visuals showing how the pandemic behaved differently before and after the end of May."
   ]
  },
  {
   "cell_type": "code",
   "execution_count": 15,
   "metadata": {},
   "outputs": [
    {
     "name": "stderr",
     "output_type": "stream",
     "text": [
      "`geom_smooth()` using formula 'y ~ x'\n",
      "\n"
     ]
    },
    {
     "data": {
      "image/png": "[encoded data removed]",
      "text/plain": [
       "plot without title"
      ]
     },
     "metadata": {
      "image/png": {
       "height": 420,
       "width": 420
      }
     },
     "output_type": "display_data"
    }
   ],
   "source": [
    "ggplot(ncovidfinal,aes(x=daycases,y=ICU, color=aftermay)) + geom_point() + geom_smooth(method='loess', se=FALSE)"
   ]
  },
  {
   "cell_type": "code",
   "execution_count": 16,
   "metadata": {},
   "outputs": [
    {
     "name": "stderr",
     "output_type": "stream",
     "text": [
      "`geom_smooth()` using formula 'y ~ x'\n",
      "\n"
     ]
    },
    {
     "data": {
      "image/png": "[encoded data removed]",
      "text/plain": [
       "plot without title"
      ]
     },
     "metadata": {
      "image/png": {
       "height": 420,
       "width": 420
      }
     },
     "output_type": "display_data"
    }
   ],
   "source": [
    "ggplot(ncovidfinal[22:nr],aes(x=daycases_lag21,y=daydeaths,color=aftermay)) + geom_point() + geom_smooth(method='loess', se=FALSE)"
   ]
  },
  {
   "cell_type": "code",
   "execution_count": 17,
   "metadata": {},
   "outputs": [
    {
     "name": "stderr",
     "output_type": "stream",
     "text": [
      "`geom_smooth()` using formula 'y ~ x'\n",
      "\n"
     ]
    },
    {
     "data": {
      "image/png": "[encoded data removed]",
      "text/plain": [
       "plot without title"
      ]
     },
     "metadata": {
      "image/png": {
       "height": 420,
       "width": 420
      }
     },
     "output_type": "display_data"
    }
   ],
   "source": [
    "ggplot(ncovidfinal[15:nr],aes(x=hospitalized_lag14,y=daydeaths,color=aftermay)) + geom_point() + geom_smooth(method='loess', se=FALSE)"
   ]
  },
  {
   "cell_type": "code",
   "execution_count": 18,
   "metadata": {},
   "outputs": [
    {
     "name": "stderr",
     "output_type": "stream",
     "text": [
      "`geom_smooth()` using formula 'y ~ x'\n",
      "\n"
     ]
    },
    {
     "data": {
      "image/png": "[encoded data removed]",
      "text/plain": [
       "plot without title"
      ]
     },
     "metadata": {
      "image/png": {
       "height": 420,
       "width": 420
      }
     },
     "output_type": "display_data"
    }
   ],
   "source": [
    "ggplot(ncovidfinal,aes(x=ICU_lag7,y=daydeaths,color=aftermay)) + geom_point() + geom_smooth(method='loess', se=FALSE)"
   ]
  },
  {
   "cell_type": "code",
   "execution_count": null,
   "metadata": {},
   "outputs": [],
   "source": []
  },
  {
   "cell_type": "markdown",
   "metadata": {},
   "source": [
    "Now set up two models, a linear and a gradient boosting, to forecast a coming week of Covid fatalities."
   ]
  },
  {
   "cell_type": "code",
   "execution_count": 19,
   "metadata": {},
   "outputs": [
    {
     "name": "stdout",
     "output_type": "stream",
     "text": [
      "\n",
      " \n"
     ]
    }
   ],
   "source": [
    "depvar <- c(\"daydeaths\")\n",
    "indvars <- c(\"aftermay\",\"dayofweek\",\"daycases_lag21\",\"hospitalized_lag14\",\"ICU_lag7\")\n",
    "vars <- c(depvar,indvars)\n",
    "\n",
    "blanks(2)"
   ]
  },
  {
   "cell_type": "markdown",
   "metadata": {},
   "source": [
    "First, fit and examine a linear model. Note that ICU_lag7 is highly significant and appears to crowd out hospitalized_lag14 and daycases_lag21. We'll stick with the full model though."
   ]
  },
  {
   "cell_type": "code",
   "execution_count": 20,
   "metadata": {},
   "outputs": [
    {
     "data": {
      "text/plain": [
       "\n",
       "Call:\n",
       "lm(formula = as.formula(paste(depvar, \"~\", paste(indvars, collapse = \"+\"), \n",
       "    sep = \"\")), data = ncovidfinal[22:nr, ..vars])\n",
       "\n",
       "Residuals:\n",
       "    Min      1Q  Median      3Q     Max \n",
       "-864.05 -124.11   -2.16  113.33  870.44 \n",
       "\n",
       "Coefficients:\n",
       "                      Estimate  Std. Error t value             Pr(>|t|)    \n",
       "(Intercept)         439.301265  132.627095   3.312             0.001076 ** \n",
       "aftermayTRUE       -324.440283   86.547209  -3.749             0.000225 ***\n",
       "dayofweek.L         392.610043   41.562417   9.446 < 0.0000000000000002 ***\n",
       "dayofweek.Q        -558.583804   39.780136 -14.042 < 0.0000000000000002 ***\n",
       "dayofweek.C           0.062361   40.015107   0.002             0.998758    \n",
       "dayofweek^4         188.559054   39.740012   4.745          0.000003683 ***\n",
       "dayofweek^5        -210.585763   39.573298  -5.321          0.000000246 ***\n",
       "dayofweek^6          21.950965   39.613672   0.554             0.580036    \n",
       "daycases_lag21        0.003030    0.001368   2.216             0.027714 *  \n",
       "hospitalized_lag14   -0.007872    0.002541  -3.098             0.002196 ** \n",
       "ICU_lag7              0.118523    0.012450   9.520 < 0.0000000000000002 ***\n",
       "---\n",
       "Signif. codes:  0 '***' 0.001 '**' 0.01 '*' 0.05 '.' 0.1 ' ' 1\n",
       "\n",
       "Residual standard error: 231.4 on 228 degrees of freedom\n",
       "Multiple R-squared:  0.8504,\tAdjusted R-squared:  0.8438 \n",
       "F-statistic: 129.6 on 10 and 228 DF,  p-value: < 0.00000000000000022\n"
      ]
     },
     "metadata": {},
     "output_type": "display_data"
    },
    {
     "name": "stdout",
     "output_type": "stream",
     "text": [
      "\n",
      " \n"
     ]
    }
   ],
   "source": [
    "lst <- lm(as.formula(paste(depvar,\"~\",paste(indvars,collapse=\"+\"),sep=\"\")),data=ncovidfinal[22:nr,..vars])\n",
    "\n",
    "summary(lst)\n",
    "\n",
    "blanks(2)"
   ]
  },
  {
   "cell_type": "code",
   "execution_count": 21,
   "metadata": {},
   "outputs": [
    {
     "data": {
      "text/html": [
       "342717.521817095"
      ],
      "text/latex": [
       "342717.521817095"
      ],
      "text/markdown": [
       "342717.521817095"
      ],
      "text/plain": [
       "[1] 342717.5"
      ]
     },
     "metadata": {},
     "output_type": "display_data"
    },
    {
     "data": {
      "text/html": [
       "51065.5351902315"
      ],
      "text/latex": [
       "51065.5351902315"
      ],
      "text/markdown": [
       "51065.5351902315"
      ],
      "text/plain": [
       "[1] 51065.54"
      ]
     },
     "metadata": {},
     "output_type": "display_data"
    },
    {
     "data": {
      "text/html": [
       "0.850998177976191"
      ],
      "text/latex": [
       "0.850998177976191"
      ],
      "text/markdown": [
       "0.850998177976191"
      ],
      "text/plain": [
       "[1] 0.8509982"
      ]
     },
     "metadata": {},
     "output_type": "display_data"
    },
    {
     "name": "stdout",
     "output_type": "stream",
     "text": [
      "\n",
      " \n"
     ]
    }
   ],
   "source": [
    "v <- var(ncovidfinal[22:nr]$daydeaths)\n",
    "m <- mse(ncovidfinal[22:nr]$daydeaths,predict(lst))\n",
    "r2 <- 1-m/v\n",
    "\n",
    "v\n",
    "m\n",
    "r2\n",
    "\n",
    "blanks(2)"
   ]
  },
  {
   "cell_type": "markdown",
   "metadata": {},
   "source": [
    "Next, gradient boosting from xgboost. First, though, create a model matrix from the analysis data.table."
   ]
  },
  {
   "cell_type": "code",
   "execution_count": 22,
   "metadata": {},
   "outputs": [
    {
     "name": "stdout",
     "output_type": "stream",
     "text": [
      "Class 'xgb.DMatrix' <externalptr> \n",
      " - attr(*, \".Dimnames\")=List of 2\n",
      "  ..$ : NULL\n",
      "  ..$ : chr [1:11] \"(Intercept)\" \"aftermayTRUE\" \"dayofweek.L\" \"dayofweek.Q\" ...\n",
      "\n",
      " \n"
     ]
    }
   ],
   "source": [
    "trainspm <- xgb.DMatrix(sparse.model.matrix(as.formula(paste0(depvar,\"~.\")), data = ncovidfinal[22:nr,..vars]), label =  ncovidfinal[22:nr][[depvar]])\n",
    "\n",
    "str(trainspm)\n",
    "\n",
    "bst <- xgb.train(data = trainspm, max_depth = 6, eta = .3, nthread = 2, nrounds = 10, subsample = .3, tree_method=\"exact\",\n",
    "              gamma=5,verbose=1, subsample=.5,lambda=2,alpha=2,objective = \"reg:squarederror\",eval_metric = \"rmse\")\n",
    "\n",
    "blanks(2)"
   ]
  },
  {
   "cell_type": "markdown",
   "metadata": {},
   "source": [
    "Look at the results. ICU_lag7 is by far the most important \"regressor\"."
   ]
  },
  {
   "cell_type": "code",
   "execution_count": 23,
   "metadata": {},
   "outputs": [
    {
     "data": {
      "text/html": [
       "342717.521817095"
      ],
      "text/latex": [
       "342717.521817095"
      ],
      "text/markdown": [
       "342717.521817095"
      ],
      "text/plain": [
       "[1] 342717.5"
      ]
     },
     "metadata": {},
     "output_type": "display_data"
    },
    {
     "data": {
      "text/html": [
       "29308.6241171908"
      ],
      "text/latex": [
       "29308.6241171908"
      ],
      "text/markdown": [
       "29308.6241171908"
      ],
      "text/plain": [
       "[1] 29308.62"
      ]
     },
     "metadata": {},
     "output_type": "display_data"
    },
    {
     "data": {
      "text/html": [
       "0.914481687537317"
      ],
      "text/latex": [
       "0.914481687537317"
      ],
      "text/markdown": [
       "0.914481687537317"
      ],
      "text/plain": [
       "[1] 0.9144817"
      ]
     },
     "metadata": {},
     "output_type": "display_data"
    },
    {
     "name": "stdout",
     "output_type": "stream",
     "text": [
      "\n",
      " \n"
     ]
    }
   ],
   "source": [
    "v <- var(ncovidfinal[22:nr]$daydeaths)\n",
    "m <- mse(ncovidfinal[22:nr]$daydeaths,predict(bst,newdata=trainspm))\n",
    "r2 <- 1-m/v\n",
    "\n",
    "v\n",
    "m\n",
    "r2\n",
    "\n",
    "blanks(2)"
   ]
  },
  {
   "cell_type": "code",
   "execution_count": 24,
   "metadata": {},
   "outputs": [
    {
     "name": "stdout",
     "output_type": "stream",
     "text": [
      "\n",
      " \n"
     ]
    },
    {
     "data": {
      "image/png": "[encoded data removed]",
      "text/plain": [
       "plot without title"
      ]
     },
     "metadata": {
      "image/png": {
       "height": 360,
       "width": 480
      }
     },
     "output_type": "display_data"
    }
   ],
   "source": [
    "options(repr.plot.width=8, repr.plot.height=6)\n",
    "\n",
    "importance <- xgb.importance(feature_names = colnames(trainspm), model = bst)\n",
    "xgb.plot.importance(importance, rel_to_first = TRUE, xlab = \"Relative Importance\")\n",
    "\n",
    "blanks(2)"
   ]
  },
  {
   "cell_type": "markdown",
   "metadata": {},
   "source": [
    "Build the \"newdata\" data.table used for forecasting the next week."
   ]
  },
  {
   "cell_type": "code",
   "execution_count": 25,
   "metadata": {},
   "outputs": [
    {
     "name": "stdout",
     "output_type": "stream",
     "text": [
      "\n",
      "\n",
      "|name |class                 |rows|columns|size   |\n",
      "|:----|:---------------------|:---|:------|:------|\n",
      "|newdt|data.table, data.frame|7   |6      |2.87 KB|\n",
      "\n",
      "Classes 'data.table' and 'data.frame':\t7 obs. of  6 variables:\n",
      " $ date              : Date, format: \"2020-12-11\" \"2020-12-12\" ...\n",
      " $ aftermay          : logi  TRUE TRUE TRUE TRUE TRUE TRUE ...\n",
      " $ dayofweek         : Ord.factor w/ 7 levels \"Sun\"<\"Mon\"<\"Tue\"<..: 6 7 1 2 3 4 5\n",
      " $ daycases_lag21    : int  195518 178097 142807 171515 172988 181287 110654\n",
      " $ hospitalized_lag14: int  89950 91762 93357 96149 98777 100322 100755\n",
      " $ ICU_lag7          : int  19858 19947 20145 20098 20483 20906 21023\n",
      " - attr(*, \".internal.selfref\")=<externalptr> \n",
      "NULL\n",
      "\n"
     ]
    },
    {
     "data": {
      "text/plain": [
       "\n",
       "\n",
       "|date      |aftermay|dayofweek|daycases_lag21|hospitalized_lag14|ICU_lag7|\n",
       "|:---------|:-------|:--------|:-------------|:-----------------|:-------|\n",
       "|2020-12-11|TRUE    |Fri      |195518        |89950             |19858   |\n",
       "|2020-12-12|TRUE    |Sat      |178097        |91762             |19947   |\n",
       "|2020-12-13|TRUE    |Sun      |142807        |93357             |20145   |\n",
       "|2020-12-14|TRUE    |Mon      |171515        |96149             |20098   |\n",
       "|2020-12-15|TRUE    |Tue      |172988        |98777             |20483   |\n",
       "|2020-12-16|TRUE    |Wed      |181287        |100322            |20906   |\n",
       "|2020-12-17|TRUE    |Thu      |110654        |100755            |21023   |"
      ]
     },
     "metadata": {},
     "output_type": "display_data"
    },
    {
     "name": "stdout",
     "output_type": "stream",
     "text": [
      "\n",
      " \n"
     ]
    }
   ],
   "source": [
    "newdt <- data.table(date=ncovidfinal[idx==1]$date+1:7,\n",
    "                    aftermay=rep(TRUE,7),\n",
    "                    dayofweek=ncovidfinal[between(idx,1,7),dayofweek],\n",
    "                    daycases_lag21=ncovidfinal[between(idx,15,21),daycases],\n",
    "                    hospitalized_lag14=ncovidfinal[between(idx,8,14),hospitalized], \n",
    "                    ICU_lag7=ncovidfinal[between(idx,1,7),ICU]                                       \n",
    "                   )\n",
    "meta(newdt)\n",
    "blanks(1)\n",
    "mykab(newdt)\n",
    "\n",
    "blanks(2)"
   ]
  },
  {
   "cell_type": "markdown",
   "metadata": {},
   "source": [
    "Also create the model matrix for xgboost."
   ]
  },
  {
   "cell_type": "code",
   "execution_count": 26,
   "metadata": {},
   "outputs": [
    {
     "data": {
      "text/html": [
       "<ol>\n",
       "\t<li>NULL</li>\n",
       "\t<li><style>\n",
       ".list-inline {list-style: none; margin:0; padding: 0}\n",
       ".list-inline>li {display: inline-block}\n",
       ".list-inline>li:not(:last-child)::after {content: \"\\00b7\"; padding: 0 .5ex}\n",
       "</style>\n",
       "<ol class=list-inline><li>'(Intercept)'</li><li>'aftermayTRUE'</li><li>'dayofweek.L'</li><li>'dayofweek.Q'</li><li>'dayofweek.C'</li><li>'dayofweek^4'</li><li>'dayofweek^5'</li><li>'dayofweek^6'</li><li>'daycases_lag21'</li><li>'hospitalized_lag14'</li><li>'ICU_lag7'</li></ol>\n",
       "</li>\n",
       "</ol>\n"
      ],
      "text/latex": [
       "\\begin{enumerate}\n",
       "\\item NULL\n",
       "\\item \\begin{enumerate*}\n",
       "\\item '(Intercept)'\n",
       "\\item 'aftermayTRUE'\n",
       "\\item 'dayofweek.L'\n",
       "\\item 'dayofweek.Q'\n",
       "\\item 'dayofweek.C'\n",
       "\\item 'dayofweek\\textasciicircum{}4'\n",
       "\\item 'dayofweek\\textasciicircum{}5'\n",
       "\\item 'dayofweek\\textasciicircum{}6'\n",
       "\\item 'daycases\\_lag21'\n",
       "\\item 'hospitalized\\_lag14'\n",
       "\\item 'ICU\\_lag7'\n",
       "\\end{enumerate*}\n",
       "\n",
       "\\end{enumerate}\n"
      ],
      "text/markdown": [
       "1. NULL\n",
       "2. 1. '(Intercept)'\n",
       "2. 'aftermayTRUE'\n",
       "3. 'dayofweek.L'\n",
       "4. 'dayofweek.Q'\n",
       "5. 'dayofweek.C'\n",
       "6. 'dayofweek^4'\n",
       "7. 'dayofweek^5'\n",
       "8. 'dayofweek^6'\n",
       "9. 'daycases_lag21'\n",
       "10. 'hospitalized_lag14'\n",
       "11. 'ICU_lag7'\n",
       "\n",
       "\n",
       "\n",
       "\n",
       "\n"
      ],
      "text/plain": [
       "[[1]]\n",
       "NULL\n",
       "\n",
       "[[2]]\n",
       " [1] \"(Intercept)\"        \"aftermayTRUE\"       \"dayofweek.L\"       \n",
       " [4] \"dayofweek.Q\"        \"dayofweek.C\"        \"dayofweek^4\"       \n",
       " [7] \"dayofweek^5\"        \"dayofweek^6\"        \"daycases_lag21\"    \n",
       "[10] \"hospitalized_lag14\" \"ICU_lag7\"          \n"
      ]
     },
     "metadata": {},
     "output_type": "display_data"
    },
    {
     "name": "stdout",
     "output_type": "stream",
     "text": [
      "\n",
      " \n"
     ]
    }
   ],
   "source": [
    "newspm <- xgb.DMatrix(sparse.model.matrix(as.formula(paste0(\"~.\")), data = newdt[,..indvars]))\n",
    "\n",
    "dimnames(newspm)\n",
    "\n",
    "blanks(2)"
   ]
  },
  {
   "cell_type": "markdown",
   "metadata": {},
   "source": [
    "Separate lm, xgboost, and combined next week predictions. Big differences in lm and xgboost forecasts, which I'm currently examining.  For now, use the average of the two -- which still appears to lowball forecasts."
   ]
  },
  {
   "cell_type": "code",
   "execution_count": 27,
   "metadata": {},
   "outputs": [
    {
     "name": "stdout",
     "output_type": "stream",
     "text": [
      "   1    2    3    4    5    6    7 \n",
      "2482 2238 1742 1909 2539 2673 2317 \n",
      "[1] 15900\n",
      "\n",
      "[1] 2134 1807 1369 1520 2359 2472 2003\n",
      "[1] 13664\n",
      "\n",
      "   1    2    3    4    5    6    7 \n",
      "2308 2022 1556 1714 2449 2572 2160 \n",
      "[1] 14781\n",
      "\n",
      " \n"
     ]
    }
   ],
   "source": [
    "print(round(predict(lst,newdata=newdt)))\n",
    "print(sum(round(predict(lst,newdata=newdt))))\n",
    "blanks(1)\n",
    "print(round(predict(bst,newdata=newspm)))\n",
    "print(sum(round(predict(bst,newdata=newspm))))\n",
    "blanks(1)\n",
    "print(round((predict(lst,newdata=newdt)+predict(bst,newdata=newspm))/2))\n",
    "print(sum(round((predict(lst,newdata=newdt)+predict(bst,newdata=newspm))/2)))\n",
    "\n",
    "blanks(2)"
   ]
  },
  {
   "cell_type": "markdown",
   "metadata": {},
   "source": [
    "Construct a data.table with the last week of actuals along with next week's forecasts."
   ]
  },
  {
   "cell_type": "code",
   "execution_count": 28,
   "metadata": {},
   "outputs": [
    {
     "name": "stdout",
     "output_type": "stream",
     "text": [
      "\n",
      " \n"
     ]
    }
   ],
   "source": [
    "vars = c(\"aftermay\",\"dayofweek\",\"daycases_lag21\",\"hospitalized_lag14\",\"ICU_lag7\",\"daydeaths\")\n",
    "vars <- c(\"date\",vars)\n",
    "\n",
    "blanks(2)"
   ]
  },
  {
   "cell_type": "code",
   "execution_count": 29,
   "metadata": {},
   "outputs": [
    {
     "data": {
      "text/plain": [
       "\n",
       "\n",
       "|date      |aftermay|dayofweek|daycases_lag21|hospitalized_lag14|ICU_lag7|daydeaths|\n",
       "|:---------|:-------|:--------|:-------------|:-----------------|:-------|:--------|\n",
       "|2020-12-04|TRUE    |Fri      |177568        |82279             |18061   |2607     |\n",
       "|2020-12-05|TRUE    |Sat      |166750        |83346             |18249   |2254     |\n",
       "|2020-12-06|TRUE    |Sun      |135941        |83882             |18437   |1113     |\n",
       "|2020-12-07|TRUE    |Mon      |157820        |85979             |18801   |1404     |\n",
       "|2020-12-08|TRUE    |Tue      |160574        |88174             |19295   |2546     |\n",
       "|2020-12-09|TRUE    |Wed      |170513        |90041             |19680   |3124     |\n",
       "|2020-12-10|TRUE    |Thu      |188033        |90564             |19723   |2768     |\n",
       "|2020-12-11|TRUE    |Fri      |195518        |89950             |19858   |2308     |\n",
       "|2020-12-12|TRUE    |Sat      |178097        |91762             |19947   |2022     |\n",
       "|2020-12-13|TRUE    |Sun      |142807        |93357             |20145   |1556     |\n",
       "|2020-12-14|TRUE    |Mon      |171515        |96149             |20098   |1714     |\n",
       "|2020-12-15|TRUE    |Tue      |172988        |98777             |20483   |2449     |\n",
       "|2020-12-16|TRUE    |Wed      |181287        |100322            |20906   |2572     |\n",
       "|2020-12-17|TRUE    |Thu      |110654        |100755            |21023   |2160     |"
      ]
     },
     "metadata": {},
     "output_type": "display_data"
    },
    {
     "name": "stdout",
     "output_type": "stream",
     "text": [
      "\n",
      " \n"
     ]
    }
   ],
   "source": [
    "newdtt <- rbind(tail(ncovidfinal[,..vars],7),\n",
    "    cbind(newdt,predicted=round((predict(lst,newdata=newdt)+predict(bst,newdata=newspm))/2)) \n",
    "              ,use.names=F)\n",
    "\n",
    "mykab(newdtt)\n",
    "\n",
    "blanks(2)"
   ]
  },
  {
   "cell_type": "markdown",
   "metadata": {},
   "source": [
    "Display forecasts along with most recent actuals in html using R's knitr library."
   ]
  },
  {
   "cell_type": "code",
   "execution_count": 30,
   "metadata": {},
   "outputs": [
    {
     "data": {
      "text/plain": [
       "[1] \"newdtt2020-12-10.png\"\n",
       "attr(,\"class\")\n",
       "[1] \"knit_image_paths\" \"knit_asis\"       \n",
       "attr(,\"dpi\")\n",
       "[1] 32.6"
      ]
     },
     "metadata": {},
     "output_type": "display_data"
    }
   ],
   "source": [
    "wd <- \"c:/steve/covid/modeling\"\n",
    "setwd(wd)\n",
    "\n",
    "ofile <- paste0(\"newdtt\",newdtt[7]$date,\".png\")\n",
    "\n",
    "setnames(newdtt,c(\"date\",\"aftermay\",\"weekday\",\"cases_l21\",\"hosp_l14\",\"ICU_l7\",\"deaths\"))\n",
    "kbl(newdtt[,-c(\"aftermay\")]) %>%\n",
    "    kable_paper(\"striped\", full_width = FALSE) %>%  \t \n",
    "    column_spec(6, color = \"white\",\n",
    "    background = spec_color(c(rep(1,7),rep(3,7)), begin = 0.4, end = 0.7)) %>%\n",
    "    as_image(width=10,file=ofile)\n",
    "\n"
   ]
  },
  {
   "cell_type": "code",
   "execution_count": 31,
   "metadata": {},
   "outputs": [
    {
     "data": {
      "text/html": [
       "<table class=\" lightable-paper lightable-striped\" style='font-family: \"Arial Narrow\", arial, helvetica, sans-serif; width: auto !important; margin-left: auto; margin-right: auto;'>\n",
       " <thead>\n",
       "  <tr>\n",
       "   <th style=\"text-align:left;\"> date </th>\n",
       "   <th style=\"text-align:left;\"> weekday </th>\n",
       "   <th style=\"text-align:right;\"> cases_l21 </th>\n",
       "   <th style=\"text-align:right;\"> hosp_l14 </th>\n",
       "   <th style=\"text-align:right;\"> ICU_l7 </th>\n",
       "   <th style=\"text-align:right;\"> deaths </th>\n",
       "  </tr>\n",
       " </thead>\n",
       "<tbody>\n",
       "  <tr>\n",
       "   <td style=\"text-align:left;\"> 2020-12-04 </td>\n",
       "   <td style=\"text-align:left;\"> Fri </td>\n",
       "   <td style=\"text-align:right;\"> 177568 </td>\n",
       "   <td style=\"text-align:right;\"> 82279 </td>\n",
       "   <td style=\"text-align:right;\"> 18061 </td>\n",
       "   <td style=\"text-align:right;color: white !important;background-color: rgba(42, 120, 142, 1) !important;\"> 2607 </td>\n",
       "  </tr>\n",
       "  <tr>\n",
       "   <td style=\"text-align:left;\"> 2020-12-05 </td>\n",
       "   <td style=\"text-align:left;\"> Sat </td>\n",
       "   <td style=\"text-align:right;\"> 166750 </td>\n",
       "   <td style=\"text-align:right;\"> 83346 </td>\n",
       "   <td style=\"text-align:right;\"> 18249 </td>\n",
       "   <td style=\"text-align:right;color: white !important;background-color: rgba(42, 120, 142, 1) !important;\"> 2254 </td>\n",
       "  </tr>\n",
       "  <tr>\n",
       "   <td style=\"text-align:left;\"> 2020-12-06 </td>\n",
       "   <td style=\"text-align:left;\"> Sun </td>\n",
       "   <td style=\"text-align:right;\"> 135941 </td>\n",
       "   <td style=\"text-align:right;\"> 83882 </td>\n",
       "   <td style=\"text-align:right;\"> 18437 </td>\n",
       "   <td style=\"text-align:right;color: white !important;background-color: rgba(42, 120, 142, 1) !important;\"> 1113 </td>\n",
       "  </tr>\n",
       "  <tr>\n",
       "   <td style=\"text-align:left;\"> 2020-12-07 </td>\n",
       "   <td style=\"text-align:left;\"> Mon </td>\n",
       "   <td style=\"text-align:right;\"> 157820 </td>\n",
       "   <td style=\"text-align:right;\"> 85979 </td>\n",
       "   <td style=\"text-align:right;\"> 18801 </td>\n",
       "   <td style=\"text-align:right;color: white !important;background-color: rgba(42, 120, 142, 1) !important;\"> 1404 </td>\n",
       "  </tr>\n",
       "  <tr>\n",
       "   <td style=\"text-align:left;\"> 2020-12-08 </td>\n",
       "   <td style=\"text-align:left;\"> Tue </td>\n",
       "   <td style=\"text-align:right;\"> 160574 </td>\n",
       "   <td style=\"text-align:right;\"> 88174 </td>\n",
       "   <td style=\"text-align:right;\"> 19295 </td>\n",
       "   <td style=\"text-align:right;color: white !important;background-color: rgba(42, 120, 142, 1) !important;\"> 2546 </td>\n",
       "  </tr>\n",
       "  <tr>\n",
       "   <td style=\"text-align:left;\"> 2020-12-09 </td>\n",
       "   <td style=\"text-align:left;\"> Wed </td>\n",
       "   <td style=\"text-align:right;\"> 170513 </td>\n",
       "   <td style=\"text-align:right;\"> 90041 </td>\n",
       "   <td style=\"text-align:right;\"> 19680 </td>\n",
       "   <td style=\"text-align:right;color: white !important;background-color: rgba(42, 120, 142, 1) !important;\"> 3124 </td>\n",
       "  </tr>\n",
       "  <tr>\n",
       "   <td style=\"text-align:left;\"> 2020-12-10 </td>\n",
       "   <td style=\"text-align:left;\"> Thu </td>\n",
       "   <td style=\"text-align:right;\"> 188033 </td>\n",
       "   <td style=\"text-align:right;\"> 90564 </td>\n",
       "   <td style=\"text-align:right;\"> 19723 </td>\n",
       "   <td style=\"text-align:right;color: white !important;background-color: rgba(42, 120, 142, 1) !important;\"> 2768 </td>\n",
       "  </tr>\n",
       "  <tr>\n",
       "   <td style=\"text-align:left;\"> 2020-12-11 </td>\n",
       "   <td style=\"text-align:left;\"> Fri </td>\n",
       "   <td style=\"text-align:right;\"> 195518 </td>\n",
       "   <td style=\"text-align:right;\"> 89950 </td>\n",
       "   <td style=\"text-align:right;\"> 19858 </td>\n",
       "   <td style=\"text-align:right;color: white !important;background-color: rgba(67, 191, 113, 1) !important;\"> 2308 </td>\n",
       "  </tr>\n",
       "  <tr>\n",
       "   <td style=\"text-align:left;\"> 2020-12-12 </td>\n",
       "   <td style=\"text-align:left;\"> Sat </td>\n",
       "   <td style=\"text-align:right;\"> 178097 </td>\n",
       "   <td style=\"text-align:right;\"> 91762 </td>\n",
       "   <td style=\"text-align:right;\"> 19947 </td>\n",
       "   <td style=\"text-align:right;color: white !important;background-color: rgba(67, 191, 113, 1) !important;\"> 2022 </td>\n",
       "  </tr>\n",
       "  <tr>\n",
       "   <td style=\"text-align:left;\"> 2020-12-13 </td>\n",
       "   <td style=\"text-align:left;\"> Sun </td>\n",
       "   <td style=\"text-align:right;\"> 142807 </td>\n",
       "   <td style=\"text-align:right;\"> 93357 </td>\n",
       "   <td style=\"text-align:right;\"> 20145 </td>\n",
       "   <td style=\"text-align:right;color: white !important;background-color: rgba(67, 191, 113, 1) !important;\"> 1556 </td>\n",
       "  </tr>\n",
       "  <tr>\n",
       "   <td style=\"text-align:left;\"> 2020-12-14 </td>\n",
       "   <td style=\"text-align:left;\"> Mon </td>\n",
       "   <td style=\"text-align:right;\"> 171515 </td>\n",
       "   <td style=\"text-align:right;\"> 96149 </td>\n",
       "   <td style=\"text-align:right;\"> 20098 </td>\n",
       "   <td style=\"text-align:right;color: white !important;background-color: rgba(67, 191, 113, 1) !important;\"> 1714 </td>\n",
       "  </tr>\n",
       "  <tr>\n",
       "   <td style=\"text-align:left;\"> 2020-12-15 </td>\n",
       "   <td style=\"text-align:left;\"> Tue </td>\n",
       "   <td style=\"text-align:right;\"> 172988 </td>\n",
       "   <td style=\"text-align:right;\"> 98777 </td>\n",
       "   <td style=\"text-align:right;\"> 20483 </td>\n",
       "   <td style=\"text-align:right;color: white !important;background-color: rgba(67, 191, 113, 1) !important;\"> 2449 </td>\n",
       "  </tr>\n",
       "  <tr>\n",
       "   <td style=\"text-align:left;\"> 2020-12-16 </td>\n",
       "   <td style=\"text-align:left;\"> Wed </td>\n",
       "   <td style=\"text-align:right;\"> 181287 </td>\n",
       "   <td style=\"text-align:right;\"> 100322 </td>\n",
       "   <td style=\"text-align:right;\"> 20906 </td>\n",
       "   <td style=\"text-align:right;color: white !important;background-color: rgba(67, 191, 113, 1) !important;\"> 2572 </td>\n",
       "  </tr>\n",
       "  <tr>\n",
       "   <td style=\"text-align:left;\"> 2020-12-17 </td>\n",
       "   <td style=\"text-align:left;\"> Thu </td>\n",
       "   <td style=\"text-align:right;\"> 110654 </td>\n",
       "   <td style=\"text-align:right;\"> 100755 </td>\n",
       "   <td style=\"text-align:right;\"> 21023 </td>\n",
       "   <td style=\"text-align:right;color: white !important;background-color: rgba(67, 191, 113, 1) !important;\"> 2160 </td>\n",
       "  </tr>\n",
       "</tbody>\n",
       "</table>"
      ]
     },
     "metadata": {},
     "output_type": "display_data"
    }
   ],
   "source": [
    "\n",
    "setnames(newdtt,c(\"date\",\"aftermay\",\"weekday\",\"cases_l21\",\"hosp_l14\",\"ICU_l7\",\"deaths\"))\n",
    "kbl(newdtt[,-c(\"aftermay\")]) %>%\n",
    "    kable_paper(\"striped\", full_width = FALSE) %>%  \t \n",
    "    column_spec(6, color = \"white\",\n",
    "    background = spec_color(c(rep(1,7),rep(3,7)), begin = 0.4, end = 0.7)) %>%\n",
    "    as.character() %>%\n",
    "    IRdisplay::display_html() \n",
    "\n"
   ]
  },
  {
   "cell_type": "markdown",
   "metadata": {},
   "source": [
    "That's it for now. Further analysis of the models next time."
   ]
  },
  {
   "cell_type": "code",
   "execution_count": null,
   "metadata": {},
   "outputs": [],
   "source": []
  }
 ],
 "metadata": {
  "kernelspec": {
   "display_name": "R 4.0.2",
   "language": "R",
   "name": "ir402"
  },
  "language_info": {
   "codemirror_mode": "r",
   "file_extension": ".r",
   "mimetype": "text/x-r-source",
   "name": "R",
   "pygments_lexer": "r",
   "version": "4.0.2"
  }
 },
 "nbformat": 4,
 "nbformat_minor": 4
}
